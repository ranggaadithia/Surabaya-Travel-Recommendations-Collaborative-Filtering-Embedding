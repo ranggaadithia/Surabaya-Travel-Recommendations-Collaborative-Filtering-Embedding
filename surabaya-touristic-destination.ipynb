{
 "cells": [
  {
   "cell_type": "code",
   "execution_count": 1,
   "id": "5de865d0",
   "metadata": {
    "_cell_guid": "b1076dfc-b9ad-4769-8c92-a6c4dae69d19",
    "_uuid": "8f2839f25d086af736a60e9eeb907d3b93b6e0e5",
    "execution": {
     "iopub.execute_input": "2024-06-26T10:14:55.952601Z",
     "iopub.status.busy": "2024-06-26T10:14:55.952081Z",
     "iopub.status.idle": "2024-06-26T10:14:55.971310Z",
     "shell.execute_reply": "2024-06-26T10:14:55.970152Z"
    },
    "papermill": {
     "duration": 0.038974,
     "end_time": "2024-06-26T10:14:55.974541",
     "exception": false,
     "start_time": "2024-06-26T10:14:55.935567",
     "status": "completed"
    },
    "tags": []
   },
   "outputs": [
    {
     "name": "stdout",
     "output_type": "stream",
     "text": [
      "/kaggle/input/indonesia-tourism-destination/user.csv\n",
      "/kaggle/input/indonesia-tourism-destination/tourism_rating.csv\n",
      "/kaggle/input/indonesia-tourism-destination/package_tourism.csv\n",
      "/kaggle/input/indonesia-tourism-destination/tourism_with_id.csv\n"
     ]
    }
   ],
   "source": [
    "# This Python 3 environment comes with many helpful analytics libraries installed\n",
    "# It is defined by the kaggle/python Docker image: https://github.com/kaggle/docker-python\n",
    "# For example, here's several helpful packages to load\n",
    "\n",
    "import numpy as np # linear algebra\n",
    "import pandas as pd # data processing, CSV file I/O (e.g. pd.read_csv)\n",
    "\n",
    "# Input data files are available in the read-only \"../input/\" directory\n",
    "# For example, running this (by clicking run or pressing Shift+Enter) will list all files under the input directory\n",
    "\n",
    "import os\n",
    "for dirname, _, filenames in os.walk('/kaggle/input'):\n",
    "    for filename in filenames:\n",
    "        print(os.path.join(dirname, filename))\n",
    "\n",
    "# You can write up to 20GB to the current directory (/kaggle/working/) that gets preserved as output when you create a version using \"Save & Run All\" \n",
    "# You can also write temporary files to /kaggle/temp/, but they won't be saved outside of the current session"
   ]
  },
  {
   "cell_type": "markdown",
   "id": "8041f1b1",
   "metadata": {
    "papermill": {
     "duration": 0.014912,
     "end_time": "2024-06-26T10:14:56.003405",
     "exception": false,
     "start_time": "2024-06-26T10:14:55.988493",
     "status": "completed"
    },
    "tags": []
   },
   "source": [
    "# Intro"
   ]
  },
  {
   "cell_type": "markdown",
   "id": "08f7bbd8",
   "metadata": {
    "papermill": {
     "duration": 0.012908,
     "end_time": "2024-06-26T10:14:56.029624",
     "exception": false,
     "start_time": "2024-06-26T10:14:56.016716",
     "status": "completed"
    },
    "tags": []
   },
   "source": [
    "Before deciding trip bucket list, one needs to have an overview about the places.\n",
    "\n",
    "Surabaya has more than enough tourism destinations, but what is the situation after covid-19 in its tourism? In October 2021, tourism sector in Indonesia was waking up after the pandemic hiatus.\n",
    "\n",
    "This project contains the top-n tourist destination of  based on local users, rating, and places"
   ]
  },
  {
   "cell_type": "markdown",
   "id": "a656abd1",
   "metadata": {
    "papermill": {
     "duration": 0.013452,
     "end_time": "2024-06-26T10:14:56.056438",
     "exception": false,
     "start_time": "2024-06-26T10:14:56.042986",
     "status": "completed"
    },
    "tags": []
   },
   "source": [
    "# 1. Importing necessary Python Library"
   ]
  },
  {
   "cell_type": "code",
   "execution_count": 2,
   "id": "02aad6bb",
   "metadata": {
    "execution": {
     "iopub.execute_input": "2024-06-26T10:14:56.085708Z",
     "iopub.status.busy": "2024-06-26T10:14:56.084903Z",
     "iopub.status.idle": "2024-06-26T10:15:04.063825Z",
     "shell.execute_reply": "2024-06-26T10:15:04.062642Z"
    },
    "papermill": {
     "duration": 7.996924,
     "end_time": "2024-06-26T10:15:04.066819",
     "exception": false,
     "start_time": "2024-06-26T10:14:56.069895",
     "status": "completed"
    },
    "tags": []
   },
   "outputs": [],
   "source": [
    "# Data Processing\n",
    "import pandas as pd\n",
    "import numpy as np\n",
    "from zipfile import ZipFile\n",
    "from pathlib import Path\n",
    "\n",
    "# Data Visualization\n",
    "import seaborn as sns\n",
    "import matplotlib.pyplot as plt\n",
    "\n",
    "%matplotlib inline\n",
    "sns.set_palette('Set1')\n",
    "sns.set()\n",
    "\n",
    "# Data Modelling\n",
    "import tensorflow as tf\n",
    "from tensorflow import keras\n",
    "from tensorflow.keras import layers\n",
    "\n",
    "# Avoiding warning while plotting on seaborn\n",
    "import warnings\n",
    "warnings.filterwarnings('ignore')\n",
    "\n",
    "# Uploading file\n",
    "import os"
   ]
  },
  {
   "cell_type": "markdown",
   "id": "261d97b7",
   "metadata": {
    "papermill": {
     "duration": 0.013486,
     "end_time": "2024-06-26T10:15:04.093921",
     "exception": false,
     "start_time": "2024-06-26T10:15:04.080435",
     "status": "completed"
    },
    "tags": []
   },
   "source": [
    "# 2. Preparing Dataset"
   ]
  },
  {
   "cell_type": "code",
   "execution_count": 3,
   "id": "8d9156fa",
   "metadata": {
    "execution": {
     "iopub.execute_input": "2024-06-26T10:15:04.122897Z",
     "iopub.status.busy": "2024-06-26T10:15:04.122187Z",
     "iopub.status.idle": "2024-06-26T10:15:04.131422Z",
     "shell.execute_reply": "2024-06-26T10:15:04.129925Z"
    },
    "papermill": {
     "duration": 0.026594,
     "end_time": "2024-06-26T10:15:04.133981",
     "exception": false,
     "start_time": "2024-06-26T10:15:04.107387",
     "status": "completed"
    },
    "tags": []
   },
   "outputs": [
    {
     "name": "stdout",
     "output_type": "stream",
     "text": [
      "/kaggle/input/indonesia-tourism-destination/user.csv\n",
      "/kaggle/input/indonesia-tourism-destination/tourism_rating.csv\n",
      "/kaggle/input/indonesia-tourism-destination/package_tourism.csv\n",
      "/kaggle/input/indonesia-tourism-destination/tourism_with_id.csv\n"
     ]
    }
   ],
   "source": [
    "# Uploading all usable dataset\n",
    "for dirname, _, filenames in os.walk('/kaggle/input'):\n",
    "    for filename in filenames:\n",
    "        print(os.path.join(dirname, filename))"
   ]
  },
  {
   "cell_type": "markdown",
   "id": "91f3e81f",
   "metadata": {
    "papermill": {
     "duration": 0.013266,
     "end_time": "2024-06-26T10:15:04.161193",
     "exception": false,
     "start_time": "2024-06-26T10:15:04.147927",
     "status": "completed"
    },
    "tags": []
   },
   "source": [
    "##### Note:\n",
    "* tourism_with_id.csv - contains information of 5 big cities in Indonesia, for this case, only Surabaya will be used\n",
    "* user.csv - contains information of users in order to create a recommendation feature\n",
    "* tourism_rating.csv - contains information of users, touristic destination, and rating to make a recommendation system based on rating"
   ]
  },
  {
   "cell_type": "markdown",
   "id": "d907a459",
   "metadata": {
    "papermill": {
     "duration": 0.013139,
     "end_time": "2024-06-26T10:15:04.188003",
     "exception": false,
     "start_time": "2024-06-26T10:15:04.174864",
     "status": "completed"
    },
    "tags": []
   },
   "source": [
    "## 3. Data Understanding"
   ]
  },
  {
   "cell_type": "markdown",
   "id": "63ab5dea",
   "metadata": {
    "papermill": {
     "duration": 0.013729,
     "end_time": "2024-06-26T10:15:04.215258",
     "exception": false,
     "start_time": "2024-06-26T10:15:04.201529",
     "status": "completed"
    },
    "tags": []
   },
   "source": [
    "## 3.1 Preparing the Data"
   ]
  },
  {
   "cell_type": "code",
   "execution_count": 4,
   "id": "ed8296b4",
   "metadata": {
    "execution": {
     "iopub.execute_input": "2024-06-26T10:15:04.245647Z",
     "iopub.status.busy": "2024-06-26T10:15:04.245211Z",
     "iopub.status.idle": "2024-06-26T10:15:04.288032Z",
     "shell.execute_reply": "2024-06-26T10:15:04.286792Z"
    },
    "papermill": {
     "duration": 0.061225,
     "end_time": "2024-06-26T10:15:04.291033",
     "exception": false,
     "start_time": "2024-06-26T10:15:04.229808",
     "status": "completed"
    },
    "tags": []
   },
   "outputs": [],
   "source": [
    "# safe each dataset into variable\n",
    "\n",
    "rating = pd.read_csv('/kaggle/input/indonesia-tourism-destination/tourism_rating.csv')\n",
    "place = pd.read_csv('/kaggle/input/indonesia-tourism-destination/tourism_with_id.csv')\n",
    "user = pd.read_csv('/kaggle/input/indonesia-tourism-destination/user.csv')"
   ]
  },
  {
   "cell_type": "markdown",
   "id": "fd272e01",
   "metadata": {
    "papermill": {
     "duration": 0.01363,
     "end_time": "2024-06-26T10:15:04.320324",
     "exception": false,
     "start_time": "2024-06-26T10:15:04.306694",
     "status": "completed"
    },
    "tags": []
   },
   "source": [
    "## 3.2 Data Features Exploration"
   ]
  },
  {
   "cell_type": "code",
   "execution_count": 5,
   "id": "ed5cf002",
   "metadata": {
    "execution": {
     "iopub.execute_input": "2024-06-26T10:15:04.349911Z",
     "iopub.status.busy": "2024-06-26T10:15:04.349446Z",
     "iopub.status.idle": "2024-06-26T10:15:04.375988Z",
     "shell.execute_reply": "2024-06-26T10:15:04.374801Z"
    },
    "papermill": {
     "duration": 0.044667,
     "end_time": "2024-06-26T10:15:04.378668",
     "exception": false,
     "start_time": "2024-06-26T10:15:04.334001",
     "status": "completed"
    },
    "tags": []
   },
   "outputs": [
    {
     "data": {
      "text/html": [
       "<div>\n",
       "<style scoped>\n",
       "    .dataframe tbody tr th:only-of-type {\n",
       "        vertical-align: middle;\n",
       "    }\n",
       "\n",
       "    .dataframe tbody tr th {\n",
       "        vertical-align: top;\n",
       "    }\n",
       "\n",
       "    .dataframe thead th {\n",
       "        text-align: right;\n",
       "    }\n",
       "</style>\n",
       "<table border=\"1\" class=\"dataframe\">\n",
       "  <thead>\n",
       "    <tr style=\"text-align: right;\">\n",
       "      <th></th>\n",
       "      <th>Place_Id</th>\n",
       "      <th>Place_Name</th>\n",
       "      <th>Description</th>\n",
       "      <th>Category</th>\n",
       "      <th>City</th>\n",
       "      <th>Price</th>\n",
       "      <th>Rating</th>\n",
       "      <th>Time_Minutes</th>\n",
       "      <th>Coordinate</th>\n",
       "      <th>Lat</th>\n",
       "      <th>Long</th>\n",
       "      <th>Unnamed: 11</th>\n",
       "      <th>Unnamed: 12</th>\n",
       "    </tr>\n",
       "  </thead>\n",
       "  <tbody>\n",
       "    <tr>\n",
       "      <th>0</th>\n",
       "      <td>1</td>\n",
       "      <td>Monumen Nasional</td>\n",
       "      <td>Monumen Nasional atau yang populer disingkat d...</td>\n",
       "      <td>Budaya</td>\n",
       "      <td>Jakarta</td>\n",
       "      <td>20000</td>\n",
       "      <td>4.6</td>\n",
       "      <td>15.0</td>\n",
       "      <td>{'lat': -6.1753924, 'lng': 106.8271528}</td>\n",
       "      <td>-6.175392</td>\n",
       "      <td>106.827153</td>\n",
       "      <td>NaN</td>\n",
       "      <td>1</td>\n",
       "    </tr>\n",
       "    <tr>\n",
       "      <th>1</th>\n",
       "      <td>2</td>\n",
       "      <td>Kota Tua</td>\n",
       "      <td>Kota tua di Jakarta, yang juga bernama Kota Tu...</td>\n",
       "      <td>Budaya</td>\n",
       "      <td>Jakarta</td>\n",
       "      <td>0</td>\n",
       "      <td>4.6</td>\n",
       "      <td>90.0</td>\n",
       "      <td>{'lat': -6.137644799999999, 'lng': 106.8171245}</td>\n",
       "      <td>-6.137645</td>\n",
       "      <td>106.817125</td>\n",
       "      <td>NaN</td>\n",
       "      <td>2</td>\n",
       "    </tr>\n",
       "  </tbody>\n",
       "</table>\n",
       "</div>"
      ],
      "text/plain": [
       "   Place_Id        Place_Name  \\\n",
       "0         1  Monumen Nasional   \n",
       "1         2          Kota Tua   \n",
       "\n",
       "                                         Description Category     City  Price  \\\n",
       "0  Monumen Nasional atau yang populer disingkat d...   Budaya  Jakarta  20000   \n",
       "1  Kota tua di Jakarta, yang juga bernama Kota Tu...   Budaya  Jakarta      0   \n",
       "\n",
       "   Rating  Time_Minutes                                       Coordinate  \\\n",
       "0     4.6          15.0          {'lat': -6.1753924, 'lng': 106.8271528}   \n",
       "1     4.6          90.0  {'lat': -6.137644799999999, 'lng': 106.8171245}   \n",
       "\n",
       "        Lat        Long  Unnamed: 11  Unnamed: 12  \n",
       "0 -6.175392  106.827153          NaN            1  \n",
       "1 -6.137645  106.817125          NaN            2  "
      ]
     },
     "execution_count": 5,
     "metadata": {},
     "output_type": "execute_result"
    }
   ],
   "source": [
    "# Looking into data place \n",
    "\n",
    "place.head(2)"
   ]
  },
  {
   "cell_type": "code",
   "execution_count": 6,
   "id": "feb300f2",
   "metadata": {
    "execution": {
     "iopub.execute_input": "2024-06-26T10:15:04.408729Z",
     "iopub.status.busy": "2024-06-26T10:15:04.408324Z",
     "iopub.status.idle": "2024-06-26T10:15:04.431895Z",
     "shell.execute_reply": "2024-06-26T10:15:04.430628Z"
    },
    "papermill": {
     "duration": 0.041288,
     "end_time": "2024-06-26T10:15:04.434370",
     "exception": false,
     "start_time": "2024-06-26T10:15:04.393082",
     "status": "completed"
    },
    "tags": []
   },
   "outputs": [
    {
     "data": {
      "text/html": [
       "<div>\n",
       "<style scoped>\n",
       "    .dataframe tbody tr th:only-of-type {\n",
       "        vertical-align: middle;\n",
       "    }\n",
       "\n",
       "    .dataframe tbody tr th {\n",
       "        vertical-align: top;\n",
       "    }\n",
       "\n",
       "    .dataframe thead th {\n",
       "        text-align: right;\n",
       "    }\n",
       "</style>\n",
       "<table border=\"1\" class=\"dataframe\">\n",
       "  <thead>\n",
       "    <tr style=\"text-align: right;\">\n",
       "      <th></th>\n",
       "      <th>Place_Id</th>\n",
       "      <th>Place_Name</th>\n",
       "      <th>Description</th>\n",
       "      <th>Category</th>\n",
       "      <th>City</th>\n",
       "      <th>Price</th>\n",
       "      <th>Rating</th>\n",
       "      <th>Time_Minutes</th>\n",
       "      <th>Coordinate</th>\n",
       "      <th>Lat</th>\n",
       "      <th>Long</th>\n",
       "    </tr>\n",
       "  </thead>\n",
       "  <tbody>\n",
       "    <tr>\n",
       "      <th>0</th>\n",
       "      <td>1</td>\n",
       "      <td>Monumen Nasional</td>\n",
       "      <td>Monumen Nasional atau yang populer disingkat d...</td>\n",
       "      <td>Budaya</td>\n",
       "      <td>Jakarta</td>\n",
       "      <td>20000</td>\n",
       "      <td>4.6</td>\n",
       "      <td>15.0</td>\n",
       "      <td>{'lat': -6.1753924, 'lng': 106.8271528}</td>\n",
       "      <td>-6.175392</td>\n",
       "      <td>106.827153</td>\n",
       "    </tr>\n",
       "    <tr>\n",
       "      <th>1</th>\n",
       "      <td>2</td>\n",
       "      <td>Kota Tua</td>\n",
       "      <td>Kota tua di Jakarta, yang juga bernama Kota Tu...</td>\n",
       "      <td>Budaya</td>\n",
       "      <td>Jakarta</td>\n",
       "      <td>0</td>\n",
       "      <td>4.6</td>\n",
       "      <td>90.0</td>\n",
       "      <td>{'lat': -6.137644799999999, 'lng': 106.8171245}</td>\n",
       "      <td>-6.137645</td>\n",
       "      <td>106.817125</td>\n",
       "    </tr>\n",
       "  </tbody>\n",
       "</table>\n",
       "</div>"
      ],
      "text/plain": [
       "   Place_Id        Place_Name  \\\n",
       "0         1  Monumen Nasional   \n",
       "1         2          Kota Tua   \n",
       "\n",
       "                                         Description Category     City  Price  \\\n",
       "0  Monumen Nasional atau yang populer disingkat d...   Budaya  Jakarta  20000   \n",
       "1  Kota tua di Jakarta, yang juga bernama Kota Tu...   Budaya  Jakarta      0   \n",
       "\n",
       "   Rating  Time_Minutes                                       Coordinate  \\\n",
       "0     4.6          15.0          {'lat': -6.1753924, 'lng': 106.8271528}   \n",
       "1     4.6          90.0  {'lat': -6.137644799999999, 'lng': 106.8171245}   \n",
       "\n",
       "        Lat        Long  \n",
       "0 -6.175392  106.827153  \n",
       "1 -6.137645  106.817125  "
      ]
     },
     "execution_count": 6,
     "metadata": {},
     "output_type": "execute_result"
    }
   ],
   "source": [
    "# Drop unused column \n",
    "\n",
    "place = place.drop(['Unnamed: 11','Unnamed: 12'],axis=1)\n",
    "place.head(2)"
   ]
  },
  {
   "cell_type": "code",
   "execution_count": 7,
   "id": "39861d90",
   "metadata": {
    "execution": {
     "iopub.execute_input": "2024-06-26T10:15:04.464840Z",
     "iopub.status.busy": "2024-06-26T10:15:04.463659Z",
     "iopub.status.idle": "2024-06-26T10:15:04.483266Z",
     "shell.execute_reply": "2024-06-26T10:15:04.482152Z"
    },
    "papermill": {
     "duration": 0.0373,
     "end_time": "2024-06-26T10:15:04.485856",
     "exception": false,
     "start_time": "2024-06-26T10:15:04.448556",
     "status": "completed"
    },
    "tags": []
   },
   "outputs": [
    {
     "data": {
      "text/html": [
       "<div>\n",
       "<style scoped>\n",
       "    .dataframe tbody tr th:only-of-type {\n",
       "        vertical-align: middle;\n",
       "    }\n",
       "\n",
       "    .dataframe tbody tr th {\n",
       "        vertical-align: top;\n",
       "    }\n",
       "\n",
       "    .dataframe thead th {\n",
       "        text-align: right;\n",
       "    }\n",
       "</style>\n",
       "<table border=\"1\" class=\"dataframe\">\n",
       "  <thead>\n",
       "    <tr style=\"text-align: right;\">\n",
       "      <th></th>\n",
       "      <th>Place_Id</th>\n",
       "      <th>Place_Name</th>\n",
       "      <th>Description</th>\n",
       "      <th>Category</th>\n",
       "      <th>City</th>\n",
       "      <th>Price</th>\n",
       "      <th>Rating</th>\n",
       "      <th>Time_Minutes</th>\n",
       "      <th>Coordinate</th>\n",
       "      <th>Lat</th>\n",
       "      <th>Long</th>\n",
       "    </tr>\n",
       "  </thead>\n",
       "  <tbody>\n",
       "    <tr>\n",
       "      <th>391</th>\n",
       "      <td>392</td>\n",
       "      <td>Ekowisata Mangrove Wonorejo</td>\n",
       "      <td>Hutan Wisata Mangrove Surabaya merupakan wisat...</td>\n",
       "      <td>Cagar Alam</td>\n",
       "      <td>Surabaya</td>\n",
       "      <td>0</td>\n",
       "      <td>4.3</td>\n",
       "      <td>60.0</td>\n",
       "      <td>{'lat': -7.308648199999999, 'lng': 112.8216622}</td>\n",
       "      <td>-7.308648</td>\n",
       "      <td>112.821662</td>\n",
       "    </tr>\n",
       "    <tr>\n",
       "      <th>392</th>\n",
       "      <td>393</td>\n",
       "      <td>Taman Harmoni Keputih</td>\n",
       "      <td>Tempat tersebut ialah Taman Hatmoni Keputih Su...</td>\n",
       "      <td>Cagar Alam</td>\n",
       "      <td>Surabaya</td>\n",
       "      <td>0</td>\n",
       "      <td>4.4</td>\n",
       "      <td>60.0</td>\n",
       "      <td>{'lat': -7.2952211, 'lng': 112.8035603}</td>\n",
       "      <td>-7.295221</td>\n",
       "      <td>112.803560</td>\n",
       "    </tr>\n",
       "  </tbody>\n",
       "</table>\n",
       "</div>"
      ],
      "text/plain": [
       "     Place_Id                   Place_Name  \\\n",
       "391       392  Ekowisata Mangrove Wonorejo   \n",
       "392       393        Taman Harmoni Keputih   \n",
       "\n",
       "                                           Description    Category      City  \\\n",
       "391  Hutan Wisata Mangrove Surabaya merupakan wisat...  Cagar Alam  Surabaya   \n",
       "392  Tempat tersebut ialah Taman Hatmoni Keputih Su...  Cagar Alam  Surabaya   \n",
       "\n",
       "     Price  Rating  Time_Minutes  \\\n",
       "391      0     4.3          60.0   \n",
       "392      0     4.4          60.0   \n",
       "\n",
       "                                          Coordinate       Lat        Long  \n",
       "391  {'lat': -7.308648199999999, 'lng': 112.8216622} -7.308648  112.821662  \n",
       "392          {'lat': -7.2952211, 'lng': 112.8035603} -7.295221  112.803560  "
      ]
     },
     "execution_count": 7,
     "metadata": {},
     "output_type": "execute_result"
    }
   ],
   "source": [
    "# Show just Surabaya\n",
    "place = place[place['City']=='Surabaya']\n",
    "place.head(2)"
   ]
  },
  {
   "cell_type": "code",
   "execution_count": 8,
   "id": "2b53b1c2",
   "metadata": {
    "execution": {
     "iopub.execute_input": "2024-06-26T10:15:04.515892Z",
     "iopub.status.busy": "2024-06-26T10:15:04.515443Z",
     "iopub.status.idle": "2024-06-26T10:15:04.527036Z",
     "shell.execute_reply": "2024-06-26T10:15:04.525837Z"
    },
    "papermill": {
     "duration": 0.02959,
     "end_time": "2024-06-26T10:15:04.529540",
     "exception": false,
     "start_time": "2024-06-26T10:15:04.499950",
     "status": "completed"
    },
    "tags": []
   },
   "outputs": [
    {
     "data": {
      "text/plain": [
       "Time_Minutes    51.5\n",
       "dtype: float64"
      ]
     },
     "execution_count": 8,
     "metadata": {},
     "output_type": "execute_result"
    }
   ],
   "source": [
    "place.loc[:, ['Time_Minutes']].mean(axis = 0)"
   ]
  },
  {
   "cell_type": "code",
   "execution_count": 9,
   "id": "86442127",
   "metadata": {
    "execution": {
     "iopub.execute_input": "2024-06-26T10:15:04.560914Z",
     "iopub.status.busy": "2024-06-26T10:15:04.560463Z",
     "iopub.status.idle": "2024-06-26T10:15:04.582761Z",
     "shell.execute_reply": "2024-06-26T10:15:04.581361Z"
    },
    "papermill": {
     "duration": 0.041733,
     "end_time": "2024-06-26T10:15:04.585798",
     "exception": false,
     "start_time": "2024-06-26T10:15:04.544065",
     "status": "completed"
    },
    "tags": []
   },
   "outputs": [
    {
     "name": "stdout",
     "output_type": "stream",
     "text": [
      "<class 'pandas.core.frame.DataFrame'>\n",
      "Int64Index: 46 entries, 391 to 436\n",
      "Data columns (total 11 columns):\n",
      " #   Column        Non-Null Count  Dtype  \n",
      "---  ------        --------------  -----  \n",
      " 0   Place_Id      46 non-null     int64  \n",
      " 1   Place_Name    46 non-null     object \n",
      " 2   Description   46 non-null     object \n",
      " 3   Category      46 non-null     object \n",
      " 4   City          46 non-null     object \n",
      " 5   Price         46 non-null     int64  \n",
      " 6   Rating        46 non-null     float64\n",
      " 7   Time_Minutes  30 non-null     float64\n",
      " 8   Coordinate    46 non-null     object \n",
      " 9   Lat           46 non-null     float64\n",
      " 10  Long          46 non-null     float64\n",
      "dtypes: float64(4), int64(2), object(5)\n",
      "memory usage: 4.3+ KB\n"
     ]
    }
   ],
   "source": [
    "place.info()"
   ]
  },
  {
   "cell_type": "code",
   "execution_count": 10,
   "id": "19dd7152",
   "metadata": {
    "execution": {
     "iopub.execute_input": "2024-06-26T10:15:04.616894Z",
     "iopub.status.busy": "2024-06-26T10:15:04.616387Z",
     "iopub.status.idle": "2024-06-26T10:15:04.627442Z",
     "shell.execute_reply": "2024-06-26T10:15:04.626323Z"
    },
    "papermill": {
     "duration": 0.029603,
     "end_time": "2024-06-26T10:15:04.629880",
     "exception": false,
     "start_time": "2024-06-26T10:15:04.600277",
     "status": "completed"
    },
    "tags": []
   },
   "outputs": [
    {
     "data": {
      "text/html": [
       "<div>\n",
       "<style scoped>\n",
       "    .dataframe tbody tr th:only-of-type {\n",
       "        vertical-align: middle;\n",
       "    }\n",
       "\n",
       "    .dataframe tbody tr th {\n",
       "        vertical-align: top;\n",
       "    }\n",
       "\n",
       "    .dataframe thead th {\n",
       "        text-align: right;\n",
       "    }\n",
       "</style>\n",
       "<table border=\"1\" class=\"dataframe\">\n",
       "  <thead>\n",
       "    <tr style=\"text-align: right;\">\n",
       "      <th></th>\n",
       "      <th>User_Id</th>\n",
       "      <th>Place_Id</th>\n",
       "      <th>Place_Ratings</th>\n",
       "    </tr>\n",
       "  </thead>\n",
       "  <tbody>\n",
       "    <tr>\n",
       "      <th>0</th>\n",
       "      <td>1</td>\n",
       "      <td>179</td>\n",
       "      <td>3</td>\n",
       "    </tr>\n",
       "    <tr>\n",
       "      <th>1</th>\n",
       "      <td>1</td>\n",
       "      <td>344</td>\n",
       "      <td>2</td>\n",
       "    </tr>\n",
       "    <tr>\n",
       "      <th>2</th>\n",
       "      <td>1</td>\n",
       "      <td>5</td>\n",
       "      <td>5</td>\n",
       "    </tr>\n",
       "    <tr>\n",
       "      <th>3</th>\n",
       "      <td>1</td>\n",
       "      <td>373</td>\n",
       "      <td>3</td>\n",
       "    </tr>\n",
       "    <tr>\n",
       "      <th>4</th>\n",
       "      <td>1</td>\n",
       "      <td>101</td>\n",
       "      <td>4</td>\n",
       "    </tr>\n",
       "  </tbody>\n",
       "</table>\n",
       "</div>"
      ],
      "text/plain": [
       "   User_Id  Place_Id  Place_Ratings\n",
       "0        1       179              3\n",
       "1        1       344              2\n",
       "2        1         5              5\n",
       "3        1       373              3\n",
       "4        1       101              4"
      ]
     },
     "execution_count": 10,
     "metadata": {},
     "output_type": "execute_result"
    }
   ],
   "source": [
    "# looking into data rating\n",
    "\n",
    "rating.head()"
   ]
  },
  {
   "cell_type": "code",
   "execution_count": 11,
   "id": "d4a2739e",
   "metadata": {
    "execution": {
     "iopub.execute_input": "2024-06-26T10:15:04.661127Z",
     "iopub.status.busy": "2024-06-26T10:15:04.660701Z",
     "iopub.status.idle": "2024-06-26T10:15:04.673696Z",
     "shell.execute_reply": "2024-06-26T10:15:04.672544Z"
    },
    "papermill": {
     "duration": 0.031942,
     "end_time": "2024-06-26T10:15:04.676597",
     "exception": false,
     "start_time": "2024-06-26T10:15:04.644655",
     "status": "completed"
    },
    "tags": []
   },
   "outputs": [
    {
     "name": "stdout",
     "output_type": "stream",
     "text": [
      "<class 'pandas.core.frame.DataFrame'>\n",
      "RangeIndex: 10000 entries, 0 to 9999\n",
      "Data columns (total 3 columns):\n",
      " #   Column         Non-Null Count  Dtype\n",
      "---  ------         --------------  -----\n",
      " 0   User_Id        10000 non-null  int64\n",
      " 1   Place_Id       10000 non-null  int64\n",
      " 2   Place_Ratings  10000 non-null  int64\n",
      "dtypes: int64(3)\n",
      "memory usage: 234.5 KB\n"
     ]
    }
   ],
   "source": [
    "rating.info()"
   ]
  },
  {
   "cell_type": "code",
   "execution_count": 12,
   "id": "071b5b7d",
   "metadata": {
    "execution": {
     "iopub.execute_input": "2024-06-26T10:15:04.707839Z",
     "iopub.status.busy": "2024-06-26T10:15:04.707419Z",
     "iopub.status.idle": "2024-06-26T10:15:04.731484Z",
     "shell.execute_reply": "2024-06-26T10:15:04.730385Z"
    },
    "papermill": {
     "duration": 0.042693,
     "end_time": "2024-06-26T10:15:04.733983",
     "exception": false,
     "start_time": "2024-06-26T10:15:04.691290",
     "status": "completed"
    },
    "tags": []
   },
   "outputs": [
    {
     "data": {
      "text/html": [
       "<div>\n",
       "<style scoped>\n",
       "    .dataframe tbody tr th:only-of-type {\n",
       "        vertical-align: middle;\n",
       "    }\n",
       "\n",
       "    .dataframe tbody tr th {\n",
       "        vertical-align: top;\n",
       "    }\n",
       "\n",
       "    .dataframe thead th {\n",
       "        text-align: right;\n",
       "    }\n",
       "</style>\n",
       "<table border=\"1\" class=\"dataframe\">\n",
       "  <thead>\n",
       "    <tr style=\"text-align: right;\">\n",
       "      <th></th>\n",
       "      <th>User_Id</th>\n",
       "      <th>Place_Id</th>\n",
       "      <th>Place_Ratings</th>\n",
       "    </tr>\n",
       "  </thead>\n",
       "  <tbody>\n",
       "    <tr>\n",
       "      <th>0</th>\n",
       "      <td>25</td>\n",
       "      <td>392</td>\n",
       "      <td>4</td>\n",
       "    </tr>\n",
       "    <tr>\n",
       "      <th>1</th>\n",
       "      <td>44</td>\n",
       "      <td>392</td>\n",
       "      <td>3</td>\n",
       "    </tr>\n",
       "    <tr>\n",
       "      <th>2</th>\n",
       "      <td>108</td>\n",
       "      <td>392</td>\n",
       "      <td>5</td>\n",
       "    </tr>\n",
       "    <tr>\n",
       "      <th>3</th>\n",
       "      <td>119</td>\n",
       "      <td>392</td>\n",
       "      <td>3</td>\n",
       "    </tr>\n",
       "    <tr>\n",
       "      <th>4</th>\n",
       "      <td>125</td>\n",
       "      <td>392</td>\n",
       "      <td>5</td>\n",
       "    </tr>\n",
       "    <tr>\n",
       "      <th>...</th>\n",
       "      <td>...</td>\n",
       "      <td>...</td>\n",
       "      <td>...</td>\n",
       "    </tr>\n",
       "    <tr>\n",
       "      <th>95</th>\n",
       "      <td>29</td>\n",
       "      <td>397</td>\n",
       "      <td>4</td>\n",
       "    </tr>\n",
       "    <tr>\n",
       "      <th>96</th>\n",
       "      <td>31</td>\n",
       "      <td>397</td>\n",
       "      <td>4</td>\n",
       "    </tr>\n",
       "    <tr>\n",
       "      <th>97</th>\n",
       "      <td>40</td>\n",
       "      <td>397</td>\n",
       "      <td>3</td>\n",
       "    </tr>\n",
       "    <tr>\n",
       "      <th>98</th>\n",
       "      <td>46</td>\n",
       "      <td>397</td>\n",
       "      <td>3</td>\n",
       "    </tr>\n",
       "    <tr>\n",
       "      <th>99</th>\n",
       "      <td>74</td>\n",
       "      <td>397</td>\n",
       "      <td>2</td>\n",
       "    </tr>\n",
       "  </tbody>\n",
       "</table>\n",
       "<p>100 rows × 3 columns</p>\n",
       "</div>"
      ],
      "text/plain": [
       "    User_Id  Place_Id  Place_Ratings\n",
       "0        25       392              4\n",
       "1        44       392              3\n",
       "2       108       392              5\n",
       "3       119       392              3\n",
       "4       125       392              5\n",
       "..      ...       ...            ...\n",
       "95       29       397              4\n",
       "96       31       397              4\n",
       "97       40       397              3\n",
       "98       46       397              3\n",
       "99       74       397              2\n",
       "\n",
       "[100 rows x 3 columns]"
      ]
     },
     "execution_count": 12,
     "metadata": {},
     "output_type": "execute_result"
    }
   ],
   "source": [
    "# change data rating so that it will contain destination rating pada of Surabaya\n",
    "\n",
    "rating = pd.merge(rating, place[['Place_Id']], how='right', on='Place_Id')\n",
    "rating.head(100)"
   ]
  },
  {
   "cell_type": "code",
   "execution_count": 13,
   "id": "6200dd4b",
   "metadata": {
    "execution": {
     "iopub.execute_input": "2024-06-26T10:15:04.767514Z",
     "iopub.status.busy": "2024-06-26T10:15:04.766535Z",
     "iopub.status.idle": "2024-06-26T10:15:04.774032Z",
     "shell.execute_reply": "2024-06-26T10:15:04.772817Z"
    },
    "papermill": {
     "duration": 0.027242,
     "end_time": "2024-06-26T10:15:04.776457",
     "exception": false,
     "start_time": "2024-06-26T10:15:04.749215",
     "status": "completed"
    },
    "tags": []
   },
   "outputs": [
    {
     "data": {
      "text/plain": [
       "(1050, 3)"
      ]
     },
     "execution_count": 13,
     "metadata": {},
     "output_type": "execute_result"
    }
   ],
   "source": [
    "# seeing the shape rating for Surabaya\n",
    "\n",
    "rating.shape"
   ]
  },
  {
   "cell_type": "code",
   "execution_count": 14,
   "id": "c8ea7426",
   "metadata": {
    "execution": {
     "iopub.execute_input": "2024-06-26T10:15:04.809781Z",
     "iopub.status.busy": "2024-06-26T10:15:04.809135Z",
     "iopub.status.idle": "2024-06-26T10:15:04.821468Z",
     "shell.execute_reply": "2024-06-26T10:15:04.820301Z"
    },
    "papermill": {
     "duration": 0.032391,
     "end_time": "2024-06-26T10:15:04.824190",
     "exception": false,
     "start_time": "2024-06-26T10:15:04.791799",
     "status": "completed"
    },
    "tags": []
   },
   "outputs": [
    {
     "data": {
      "text/html": [
       "<div>\n",
       "<style scoped>\n",
       "    .dataframe tbody tr th:only-of-type {\n",
       "        vertical-align: middle;\n",
       "    }\n",
       "\n",
       "    .dataframe tbody tr th {\n",
       "        vertical-align: top;\n",
       "    }\n",
       "\n",
       "    .dataframe thead th {\n",
       "        text-align: right;\n",
       "    }\n",
       "</style>\n",
       "<table border=\"1\" class=\"dataframe\">\n",
       "  <thead>\n",
       "    <tr style=\"text-align: right;\">\n",
       "      <th></th>\n",
       "      <th>User_Id</th>\n",
       "      <th>Location</th>\n",
       "      <th>Age</th>\n",
       "    </tr>\n",
       "  </thead>\n",
       "  <tbody>\n",
       "    <tr>\n",
       "      <th>0</th>\n",
       "      <td>1</td>\n",
       "      <td>Semarang, Jawa Tengah</td>\n",
       "      <td>20</td>\n",
       "    </tr>\n",
       "    <tr>\n",
       "      <th>1</th>\n",
       "      <td>2</td>\n",
       "      <td>Bekasi, Jawa Barat</td>\n",
       "      <td>21</td>\n",
       "    </tr>\n",
       "    <tr>\n",
       "      <th>2</th>\n",
       "      <td>3</td>\n",
       "      <td>Cirebon, Jawa Barat</td>\n",
       "      <td>23</td>\n",
       "    </tr>\n",
       "    <tr>\n",
       "      <th>3</th>\n",
       "      <td>4</td>\n",
       "      <td>Bekasi, Jawa Barat</td>\n",
       "      <td>21</td>\n",
       "    </tr>\n",
       "    <tr>\n",
       "      <th>4</th>\n",
       "      <td>5</td>\n",
       "      <td>Lampung, Sumatera Selatan</td>\n",
       "      <td>20</td>\n",
       "    </tr>\n",
       "  </tbody>\n",
       "</table>\n",
       "</div>"
      ],
      "text/plain": [
       "   User_Id                   Location  Age\n",
       "0        1      Semarang, Jawa Tengah   20\n",
       "1        2         Bekasi, Jawa Barat   21\n",
       "2        3        Cirebon, Jawa Barat   23\n",
       "3        4         Bekasi, Jawa Barat   21\n",
       "4        5  Lampung, Sumatera Selatan   20"
      ]
     },
     "execution_count": 14,
     "metadata": {},
     "output_type": "execute_result"
    }
   ],
   "source": [
    "# look into respondents' data \n",
    "\n",
    "user.head()"
   ]
  },
  {
   "cell_type": "code",
   "execution_count": 15,
   "id": "b903c875",
   "metadata": {
    "execution": {
     "iopub.execute_input": "2024-06-26T10:15:04.858119Z",
     "iopub.status.busy": "2024-06-26T10:15:04.857671Z",
     "iopub.status.idle": "2024-06-26T10:15:04.877994Z",
     "shell.execute_reply": "2024-06-26T10:15:04.876586Z"
    },
    "papermill": {
     "duration": 0.041031,
     "end_time": "2024-06-26T10:15:04.880668",
     "exception": false,
     "start_time": "2024-06-26T10:15:04.839637",
     "status": "completed"
    },
    "tags": []
   },
   "outputs": [
    {
     "data": {
      "text/html": [
       "<div>\n",
       "<style scoped>\n",
       "    .dataframe tbody tr th:only-of-type {\n",
       "        vertical-align: middle;\n",
       "    }\n",
       "\n",
       "    .dataframe tbody tr th {\n",
       "        vertical-align: top;\n",
       "    }\n",
       "\n",
       "    .dataframe thead th {\n",
       "        text-align: right;\n",
       "    }\n",
       "</style>\n",
       "<table border=\"1\" class=\"dataframe\">\n",
       "  <thead>\n",
       "    <tr style=\"text-align: right;\">\n",
       "      <th></th>\n",
       "      <th>User_Id</th>\n",
       "      <th>Location</th>\n",
       "      <th>Age</th>\n",
       "    </tr>\n",
       "  </thead>\n",
       "  <tbody>\n",
       "    <tr>\n",
       "      <th>16</th>\n",
       "      <td>1</td>\n",
       "      <td>Semarang, Jawa Tengah</td>\n",
       "      <td>20</td>\n",
       "    </tr>\n",
       "    <tr>\n",
       "      <th>334</th>\n",
       "      <td>2</td>\n",
       "      <td>Bekasi, Jawa Barat</td>\n",
       "      <td>21</td>\n",
       "    </tr>\n",
       "    <tr>\n",
       "      <th>641</th>\n",
       "      <td>3</td>\n",
       "      <td>Cirebon, Jawa Barat</td>\n",
       "      <td>23</td>\n",
       "    </tr>\n",
       "    <tr>\n",
       "      <th>305</th>\n",
       "      <td>4</td>\n",
       "      <td>Bekasi, Jawa Barat</td>\n",
       "      <td>21</td>\n",
       "    </tr>\n",
       "    <tr>\n",
       "      <th>50</th>\n",
       "      <td>5</td>\n",
       "      <td>Lampung, Sumatera Selatan</td>\n",
       "      <td>20</td>\n",
       "    </tr>\n",
       "  </tbody>\n",
       "</table>\n",
       "</div>"
      ],
      "text/plain": [
       "     User_Id                   Location  Age\n",
       "16         1      Semarang, Jawa Tengah   20\n",
       "334        2         Bekasi, Jawa Barat   21\n",
       "641        3        Cirebon, Jawa Barat   23\n",
       "305        4         Bekasi, Jawa Barat   21\n",
       "50         5  Lampung, Sumatera Selatan   20"
      ]
     },
     "execution_count": 15,
     "metadata": {},
     "output_type": "execute_result"
    }
   ],
   "source": [
    "# change respondents' data into Surabaya destination visitors\n",
    "\n",
    "user = pd.merge(user, rating[['User_Id']], how='right', on='User_Id').drop_duplicates().sort_values('User_Id')\n",
    "user.head()"
   ]
  },
  {
   "cell_type": "code",
   "execution_count": 16,
   "id": "f3c61182",
   "metadata": {
    "execution": {
     "iopub.execute_input": "2024-06-26T10:15:04.914017Z",
     "iopub.status.busy": "2024-06-26T10:15:04.913578Z",
     "iopub.status.idle": "2024-06-26T10:15:04.920933Z",
     "shell.execute_reply": "2024-06-26T10:15:04.919645Z"
    },
    "papermill": {
     "duration": 0.027022,
     "end_time": "2024-06-26T10:15:04.923714",
     "exception": false,
     "start_time": "2024-06-26T10:15:04.896692",
     "status": "completed"
    },
    "tags": []
   },
   "outputs": [
    {
     "data": {
      "text/plain": [
       "(293, 3)"
      ]
     },
     "execution_count": 16,
     "metadata": {},
     "output_type": "execute_result"
    }
   ],
   "source": [
    "# looking respondents' dataset who gave rating to Surabaya destinations \n",
    "\n",
    "user.shape"
   ]
  },
  {
   "cell_type": "markdown",
   "id": "9d425a11",
   "metadata": {
    "papermill": {
     "duration": 0.015818,
     "end_time": "2024-06-26T10:15:04.955471",
     "exception": false,
     "start_time": "2024-06-26T10:15:04.939653",
     "status": "completed"
    },
    "tags": []
   },
   "source": [
    "# 4. Exploratory Data Analysis"
   ]
  },
  {
   "cell_type": "code",
   "execution_count": 17,
   "id": "8fc9a3f3",
   "metadata": {
    "execution": {
     "iopub.execute_input": "2024-06-26T10:15:04.988737Z",
     "iopub.status.busy": "2024-06-26T10:15:04.988335Z",
     "iopub.status.idle": "2024-06-26T10:15:05.003367Z",
     "shell.execute_reply": "2024-06-26T10:15:05.002056Z"
    },
    "papermill": {
     "duration": 0.03536,
     "end_time": "2024-06-26T10:15:05.006706",
     "exception": false,
     "start_time": "2024-06-26T10:15:04.971346",
     "status": "completed"
    },
    "tags": []
   },
   "outputs": [
    {
     "name": "stdout",
     "output_type": "stream",
     "text": [
      "   index  Place_Id_x  Place_Id_y                                 Place_Name\n",
      "0    437          38         437  Gereja Perawan Maria Tak Berdosa Surabaya\n",
      "1    402          33         402                Food Junction Grand Pakuwon\n",
      "2    430          32         430                     Atlantis Land Surabaya\n",
      "3    416          31         416                           Keraton Surabaya\n",
      "4    406          29         406                       Kebun Bibit Wonorejo\n",
      "5    413          28         413              Museum TNI AL Loka Jala Crana\n",
      "6    398          28         398                        Taman Buah Surabaya\n",
      "7    427          28         427                   Patung Buddha Empat Rupa\n",
      "8    405          27         405                        Surabaya North Quay\n",
      "9    418          27         418      Museum Sepuluh Nopember Kota Surabaya\n"
     ]
    }
   ],
   "source": [
    "# creating datafram that contains locations with most rating\n",
    "top_10 = rating['Place_Id'].value_counts().reset_index()[0:10]\n",
    "\n",
    "top_10 = pd.merge(top_10, place[['Place_Id','Place_Name']], how='left', left_on='index', right_on='Place_Id')\n",
    "print(top_10)\n",
    "\n",
    "\n",
    "# creating visualization that contains most visited destinations\n",
    "# Creating visualization\n",
    "# plt.figure(figsize=(8,5))\n",
    "# sns.barplot('Place_Id_x', 'Place_Name', data=top_10)\n",
    "# plt.title('Sum of Most Rated Destinations', pad=20)\n",
    "# plt.ylabel('Sum of Rating')\n",
    "# plt.xlabel('off')  # Menambahkan teks \"off\" sebagai label di sumbu x\n",
    "# plt.show()"
   ]
  },
  {
   "cell_type": "code",
   "execution_count": 18,
   "id": "8901a6b2",
   "metadata": {
    "execution": {
     "iopub.execute_input": "2024-06-26T10:15:05.039668Z",
     "iopub.status.busy": "2024-06-26T10:15:05.039261Z",
     "iopub.status.idle": "2024-06-26T10:15:05.059765Z",
     "shell.execute_reply": "2024-06-26T10:15:05.058447Z"
    },
    "papermill": {
     "duration": 0.03995,
     "end_time": "2024-06-26T10:15:05.062337",
     "exception": false,
     "start_time": "2024-06-26T10:15:05.022387",
     "status": "completed"
    },
    "tags": []
   },
   "outputs": [],
   "source": [
    "# changing the naming into English\n",
    "place.Category[place.Category == 'Taman Hiburan'] = 'Amusement Park & Downtown Attractions'\n",
    "place.Category[place.Category == 'Budaya'] = 'Culture'\n",
    "place.Category[place.Category == 'Cagar Alam'] = 'National Park'\n",
    "place.Category[place.Category == 'Taman Hiburan'] = 'Amusement Park'\n",
    "place.Category[place.Category == 'Bahari'] = 'Marine Tourism'\n",
    "place.Category[place.Category == 'Pusat Perbelanjaan'] = 'Shopping Center'"
   ]
  },
  {
   "cell_type": "code",
   "execution_count": 19,
   "id": "e8294d61",
   "metadata": {
    "execution": {
     "iopub.execute_input": "2024-06-26T10:15:05.096639Z",
     "iopub.status.busy": "2024-06-26T10:15:05.096054Z",
     "iopub.status.idle": "2024-06-26T10:15:05.392195Z",
     "shell.execute_reply": "2024-06-26T10:15:05.390839Z"
    },
    "papermill": {
     "duration": 0.317009,
     "end_time": "2024-06-26T10:15:05.395326",
     "exception": false,
     "start_time": "2024-06-26T10:15:05.078317",
     "status": "completed"
    },
    "tags": []
   },
   "outputs": [
    {
     "data": {
      "image/png": "[encoded data removed]",
      "text/plain": [
       "<Figure size 432x288 with 1 Axes>"
      ]
     },
     "metadata": {},
     "output_type": "display_data"
    }
   ],
   "source": [
    "# creating visualization of sum category for Surabaya destinations\n",
    "\n",
    "sns.countplot(y='Category', data=place)\n",
    "plt.title('Comparison of Summary Tourism Category in Sura', pad=20)\n",
    "plt.show()"
   ]
  },
  {
   "cell_type": "code",
   "execution_count": 20,
   "id": "efd20e43",
   "metadata": {
    "execution": {
     "iopub.execute_input": "2024-06-26T10:15:05.429614Z",
     "iopub.status.busy": "2024-06-26T10:15:05.429180Z",
     "iopub.status.idle": "2024-06-26T10:15:05.578013Z",
     "shell.execute_reply": "2024-06-26T10:15:05.576857Z"
    },
    "papermill": {
     "duration": 0.169827,
     "end_time": "2024-06-26T10:15:05.581373",
     "exception": false,
     "start_time": "2024-06-26T10:15:05.411546",
     "status": "completed"
    },
    "tags": []
   },
   "outputs": [
    {
     "data": {
      "image/png": "[encoded data removed]",
      "text/plain": [
       "<Figure size 360x216 with 1 Axes>"
      ]
     },
     "metadata": {},
     "output_type": "display_data"
    }
   ],
   "source": [
    "# visualizing visitors distribution \n",
    "\n",
    "plt.figure(figsize=(5,3))\n",
    "sns.boxplot(user['Age']);\n",
    "plt.title('Visitor Age Distribution', pad=20)\n",
    "plt.show()"
   ]
  },
  {
   "cell_type": "code",
   "execution_count": 21,
   "id": "5302596d",
   "metadata": {
    "execution": {
     "iopub.execute_input": "2024-06-26T10:15:05.616978Z",
     "iopub.status.busy": "2024-06-26T10:15:05.616520Z",
     "iopub.status.idle": "2024-06-26T10:15:05.792361Z",
     "shell.execute_reply": "2024-06-26T10:15:05.791149Z"
    },
    "papermill": {
     "duration": 0.195937,
     "end_time": "2024-06-26T10:15:05.794918",
     "exception": false,
     "start_time": "2024-06-26T10:15:05.598981",
     "status": "completed"
    },
    "tags": []
   },
   "outputs": [
    {
     "data": {
      "image/png": "[encoded data removed]",
      "text/plain": [
       "<Figure size 864x432 with 1 Axes>"
      ]
     },
     "metadata": {},
     "output_type": "display_data"
    }
   ],
   "source": [
    "# visualizing entrance fee range for destinations\n",
    "\n",
    "plt.figure(figsize=(12,6))\n",
    "sns.boxplot(place['Price'])\n",
    "plt.title('Entrance Free Distribution for Surabaya Tourist Destination', pad=20)\n",
    "plt.show()"
   ]
  },
  {
   "cell_type": "code",
   "execution_count": 22,
   "id": "5b2927f0",
   "metadata": {
    "execution": {
     "iopub.execute_input": "2024-06-26T10:15:05.829886Z",
     "iopub.status.busy": "2024-06-26T10:15:05.829424Z",
     "iopub.status.idle": "2024-06-26T10:15:05.852267Z",
     "shell.execute_reply": "2024-06-26T10:15:05.851145Z"
    },
    "papermill": {
     "duration": 0.043478,
     "end_time": "2024-06-26T10:15:05.854955",
     "exception": false,
     "start_time": "2024-06-26T10:15:05.811477",
     "status": "completed"
    },
    "tags": []
   },
   "outputs": [
    {
     "data": {
      "text/html": [
       "<div>\n",
       "<style scoped>\n",
       "    .dataframe tbody tr th:only-of-type {\n",
       "        vertical-align: middle;\n",
       "    }\n",
       "\n",
       "    .dataframe tbody tr th {\n",
       "        vertical-align: top;\n",
       "    }\n",
       "\n",
       "    .dataframe thead tr th {\n",
       "        text-align: left;\n",
       "    }\n",
       "\n",
       "    .dataframe thead tr:last-of-type th {\n",
       "        text-align: right;\n",
       "    }\n",
       "</style>\n",
       "<table border=\"1\" class=\"dataframe\">\n",
       "  <thead>\n",
       "    <tr>\n",
       "      <th></th>\n",
       "      <th colspan=\"2\" halign=\"left\">Price</th>\n",
       "      <th colspan=\"2\" halign=\"left\">Time_Minutes</th>\n",
       "    </tr>\n",
       "    <tr>\n",
       "      <th></th>\n",
       "      <th>mean</th>\n",
       "      <th>sum</th>\n",
       "      <th>mean</th>\n",
       "      <th>sum</th>\n",
       "    </tr>\n",
       "    <tr>\n",
       "      <th>Category</th>\n",
       "      <th></th>\n",
       "      <th></th>\n",
       "      <th></th>\n",
       "      <th></th>\n",
       "    </tr>\n",
       "  </thead>\n",
       "  <tbody>\n",
       "    <tr>\n",
       "      <th>Amusement Park &amp; Downtown Attractions</th>\n",
       "      <td>21111.111111</td>\n",
       "      <td>380000</td>\n",
       "      <td>56.363636</td>\n",
       "      <td>620.0</td>\n",
       "    </tr>\n",
       "    <tr>\n",
       "      <th>Culture</th>\n",
       "      <td>2722.222222</td>\n",
       "      <td>49000</td>\n",
       "      <td>33.750000</td>\n",
       "      <td>405.0</td>\n",
       "    </tr>\n",
       "    <tr>\n",
       "      <th>Marine Tourism</th>\n",
       "      <td>15000.000000</td>\n",
       "      <td>15000</td>\n",
       "      <td>45.000000</td>\n",
       "      <td>45.0</td>\n",
       "    </tr>\n",
       "    <tr>\n",
       "      <th>National Park</th>\n",
       "      <td>3000.000000</td>\n",
       "      <td>15000</td>\n",
       "      <td>71.000000</td>\n",
       "      <td>355.0</td>\n",
       "    </tr>\n",
       "    <tr>\n",
       "      <th>Shopping Center</th>\n",
       "      <td>0.000000</td>\n",
       "      <td>0</td>\n",
       "      <td>120.000000</td>\n",
       "      <td>120.0</td>\n",
       "    </tr>\n",
       "    <tr>\n",
       "      <th>Tempat Ibadah</th>\n",
       "      <td>3333.333333</td>\n",
       "      <td>10000</td>\n",
       "      <td>NaN</td>\n",
       "      <td>0.0</td>\n",
       "    </tr>\n",
       "  </tbody>\n",
       "</table>\n",
       "</div>"
      ],
      "text/plain": [
       "                                              Price         Time_Minutes  \\\n",
       "                                               mean     sum         mean   \n",
       "Category                                                                   \n",
       "Amusement Park & Downtown Attractions  21111.111111  380000    56.363636   \n",
       "Culture                                 2722.222222   49000    33.750000   \n",
       "Marine Tourism                         15000.000000   15000    45.000000   \n",
       "National Park                           3000.000000   15000    71.000000   \n",
       "Shopping Center                            0.000000       0   120.000000   \n",
       "Tempat Ibadah                           3333.333333   10000          NaN   \n",
       "\n",
       "                                              \n",
       "                                         sum  \n",
       "Category                                      \n",
       "Amusement Park & Downtown Attractions  620.0  \n",
       "Culture                                405.0  \n",
       "Marine Tourism                          45.0  \n",
       "National Park                          355.0  \n",
       "Shopping Center                        120.0  \n",
       "Tempat Ibadah                            0.0  "
      ]
     },
     "execution_count": 22,
     "metadata": {},
     "output_type": "execute_result"
    }
   ],
   "source": [
    "# aggregating the Price and Time_Minutes for Category destination\n",
    "place.groupby(\"Category\").agg({\"Price\":[\"mean\", \"sum\"],\n",
    "                       \"Time_Minutes\":[\"mean\", \"sum\"]})"
   ]
  },
  {
   "cell_type": "code",
   "execution_count": 23,
   "id": "b3ed0597",
   "metadata": {
    "execution": {
     "iopub.execute_input": "2024-06-26T10:15:05.890921Z",
     "iopub.status.busy": "2024-06-26T10:15:05.890472Z",
     "iopub.status.idle": "2024-06-26T10:15:06.239077Z",
     "shell.execute_reply": "2024-06-26T10:15:06.237815Z"
    },
    "papermill": {
     "duration": 0.36956,
     "end_time": "2024-06-26T10:15:06.241544",
     "exception": false,
     "start_time": "2024-06-26T10:15:05.871984",
     "status": "completed"
    },
    "tags": []
   },
   "outputs": [
    {
     "data": {
      "image/png": "[encoded data removed]",
      "text/plain": [
       "<Figure size 576x432 with 1 Axes>"
      ]
     },
     "metadata": {},
     "output_type": "display_data"
    }
   ],
   "source": [
    "# filtering city origin of visitors\n",
    "askot = user['Location'].apply(lambda x : x.split(',')[0])\n",
    "\n",
    "# visualizing city origin of visitors\n",
    "plt.figure(figsize=(8,6))\n",
    "sns.countplot(y=askot)\n",
    "plt.title('Sum of Visitors Origin')\n",
    "plt.show()"
   ]
  },
  {
   "cell_type": "markdown",
   "id": "41091b83",
   "metadata": {
    "papermill": {
     "duration": 0.017323,
     "end_time": "2024-06-26T10:15:06.276318",
     "exception": false,
     "start_time": "2024-06-26T10:15:06.258995",
     "status": "completed"
    },
    "tags": []
   },
   "source": [
    "# 5. Data Preparation for Modelling"
   ]
  },
  {
   "cell_type": "markdown",
   "id": "3dda3a10",
   "metadata": {
    "papermill": {
     "duration": 0.018695,
     "end_time": "2024-06-26T10:15:06.312376",
     "exception": false,
     "start_time": "2024-06-26T10:15:06.293681",
     "status": "completed"
    },
    "tags": []
   },
   "source": [
    "## 5.1. Creating Copy for Data Rating"
   ]
  },
  {
   "cell_type": "code",
   "execution_count": 24,
   "id": "40f43a56",
   "metadata": {
    "execution": {
     "iopub.execute_input": "2024-06-26T10:15:06.349066Z",
     "iopub.status.busy": "2024-06-26T10:15:06.348613Z",
     "iopub.status.idle": "2024-06-26T10:15:06.361406Z",
     "shell.execute_reply": "2024-06-26T10:15:06.359988Z"
    },
    "papermill": {
     "duration": 0.034238,
     "end_time": "2024-06-26T10:15:06.364099",
     "exception": false,
     "start_time": "2024-06-26T10:15:06.329861",
     "status": "completed"
    },
    "tags": []
   },
   "outputs": [
    {
     "data": {
      "text/html": [
       "<div>\n",
       "<style scoped>\n",
       "    .dataframe tbody tr th:only-of-type {\n",
       "        vertical-align: middle;\n",
       "    }\n",
       "\n",
       "    .dataframe tbody tr th {\n",
       "        vertical-align: top;\n",
       "    }\n",
       "\n",
       "    .dataframe thead th {\n",
       "        text-align: right;\n",
       "    }\n",
       "</style>\n",
       "<table border=\"1\" class=\"dataframe\">\n",
       "  <thead>\n",
       "    <tr style=\"text-align: right;\">\n",
       "      <th></th>\n",
       "      <th>User_Id</th>\n",
       "      <th>Place_Id</th>\n",
       "      <th>Place_Ratings</th>\n",
       "    </tr>\n",
       "  </thead>\n",
       "  <tbody>\n",
       "    <tr>\n",
       "      <th>0</th>\n",
       "      <td>25</td>\n",
       "      <td>392</td>\n",
       "      <td>4</td>\n",
       "    </tr>\n",
       "    <tr>\n",
       "      <th>1</th>\n",
       "      <td>44</td>\n",
       "      <td>392</td>\n",
       "      <td>3</td>\n",
       "    </tr>\n",
       "    <tr>\n",
       "      <th>2</th>\n",
       "      <td>108</td>\n",
       "      <td>392</td>\n",
       "      <td>5</td>\n",
       "    </tr>\n",
       "    <tr>\n",
       "      <th>3</th>\n",
       "      <td>119</td>\n",
       "      <td>392</td>\n",
       "      <td>3</td>\n",
       "    </tr>\n",
       "    <tr>\n",
       "      <th>4</th>\n",
       "      <td>125</td>\n",
       "      <td>392</td>\n",
       "      <td>5</td>\n",
       "    </tr>\n",
       "  </tbody>\n",
       "</table>\n",
       "</div>"
      ],
      "text/plain": [
       "   User_Id  Place_Id  Place_Ratings\n",
       "0       25       392              4\n",
       "1       44       392              3\n",
       "2      108       392              5\n",
       "3      119       392              3\n",
       "4      125       392              5"
      ]
     },
     "execution_count": 24,
     "metadata": {},
     "output_type": "execute_result"
    }
   ],
   "source": [
    "# reading dataset for encoding\n",
    " \n",
    "df = rating.copy()\n",
    "df.head()"
   ]
  },
  {
   "cell_type": "markdown",
   "id": "497429bc",
   "metadata": {
    "papermill": {
     "duration": 0.017881,
     "end_time": "2024-06-26T10:15:06.400664",
     "exception": false,
     "start_time": "2024-06-26T10:15:06.382783",
     "status": "completed"
    },
    "tags": []
   },
   "source": [
    "## 5.2. Encoding"
   ]
  },
  {
   "cell_type": "code",
   "execution_count": 25,
   "id": "983d0e42",
   "metadata": {
    "execution": {
     "iopub.execute_input": "2024-06-26T10:15:06.438674Z",
     "iopub.status.busy": "2024-06-26T10:15:06.438274Z",
     "iopub.status.idle": "2024-06-26T10:15:06.445105Z",
     "shell.execute_reply": "2024-06-26T10:15:06.443835Z"
    },
    "papermill": {
     "duration": 0.028398,
     "end_time": "2024-06-26T10:15:06.447503",
     "exception": false,
     "start_time": "2024-06-26T10:15:06.419105",
     "status": "completed"
    },
    "tags": []
   },
   "outputs": [],
   "source": [
    "def dict_encoder(col, data=df):\n",
    "\n",
    "  # changing column of dataframe into list with unique value\n",
    "  unique_val = data[col].unique().tolist()\n",
    "\n",
    "  # enumerating column value of dataframe \n",
    "  val_to_val_encoded = {x: i for i, x in enumerate(unique_val)}\n",
    "\n",
    "  # encoding process from numbers to column value of dataframe\n",
    "  val_encoded_to_val = {i: x for i, x in enumerate(unique_val)}\n",
    "  return val_to_val_encoded, val_encoded_to_val"
   ]
  },
  {
   "cell_type": "code",
   "execution_count": 26,
   "id": "b4d81b2c",
   "metadata": {
    "execution": {
     "iopub.execute_input": "2024-06-26T10:15:06.484713Z",
     "iopub.status.busy": "2024-06-26T10:15:06.484292Z",
     "iopub.status.idle": "2024-06-26T10:15:06.493098Z",
     "shell.execute_reply": "2024-06-26T10:15:06.491834Z"
    },
    "papermill": {
     "duration": 0.030712,
     "end_time": "2024-06-26T10:15:06.495788",
     "exception": false,
     "start_time": "2024-06-26T10:15:06.465076",
     "status": "completed"
    },
    "tags": []
   },
   "outputs": [],
   "source": [
    "# Encoding User_Id\n",
    "user_to_user_encoded, user_encoded_to_user = dict_encoder('User_Id')\n",
    "\n",
    "# Mapping User_Id into dataframe\n",
    "df['user'] = df['User_Id'].map(user_to_user_encoded)"
   ]
  },
  {
   "cell_type": "code",
   "execution_count": 27,
   "id": "cdf887ed",
   "metadata": {
    "execution": {
     "iopub.execute_input": "2024-06-26T10:15:06.533187Z",
     "iopub.status.busy": "2024-06-26T10:15:06.532767Z",
     "iopub.status.idle": "2024-06-26T10:15:06.540776Z",
     "shell.execute_reply": "2024-06-26T10:15:06.539677Z"
    },
    "papermill": {
     "duration": 0.030058,
     "end_time": "2024-06-26T10:15:06.543510",
     "exception": false,
     "start_time": "2024-06-26T10:15:06.513452",
     "status": "completed"
    },
    "tags": []
   },
   "outputs": [],
   "source": [
    "# Encoding Place_Id\n",
    "place_to_place_encoded, place_encoded_to_place = dict_encoder('Place_Id')\n",
    "\n",
    "# Mapping Place_Id into dataframe place\n",
    "df['place'] = df['Place_Id'].map(place_to_place_encoded)"
   ]
  },
  {
   "cell_type": "markdown",
   "id": "1c7cb0b7",
   "metadata": {
    "papermill": {
     "duration": 0.017191,
     "end_time": "2024-06-26T10:15:06.579039",
     "exception": false,
     "start_time": "2024-06-26T10:15:06.561848",
     "status": "completed"
    },
    "tags": []
   },
   "source": [
    "## 5.3. Looking into Data Modelling Overview"
   ]
  },
  {
   "cell_type": "code",
   "execution_count": 28,
   "id": "1e1849a5",
   "metadata": {
    "execution": {
     "iopub.execute_input": "2024-06-26T10:15:06.616271Z",
     "iopub.status.busy": "2024-06-26T10:15:06.615833Z",
     "iopub.status.idle": "2024-06-26T10:15:06.624618Z",
     "shell.execute_reply": "2024-06-26T10:15:06.623320Z"
    },
    "papermill": {
     "duration": 0.030784,
     "end_time": "2024-06-26T10:15:06.627514",
     "exception": false,
     "start_time": "2024-06-26T10:15:06.596730",
     "status": "completed"
    },
    "tags": []
   },
   "outputs": [
    {
     "name": "stdout",
     "output_type": "stream",
     "text": [
      "Number of User: 293, Number of Place: 46, Min Rating: 1.0, Max Rating: 5.0\n"
     ]
    }
   ],
   "source": [
    "# getting length of user & place \n",
    "num_users, num_place = len(user_to_user_encoded), len(place_to_place_encoded)\n",
    " \n",
    "# changing rating into float\n",
    "df['Place_Ratings'] = df['Place_Ratings'].values.astype(np.float32)\n",
    " \n",
    "# getting minimum and maximum rating\n",
    "min_rating, max_rating = min(df['Place_Ratings']), max(df['Place_Ratings'])\n",
    " \n",
    "print(f'Number of User: {num_users}, Number of Place: {num_place}, Min Rating: {min_rating}, Max Rating: {max_rating}')"
   ]
  },
  {
   "cell_type": "code",
   "execution_count": 29,
   "id": "e93a2e8f",
   "metadata": {
    "execution": {
     "iopub.execute_input": "2024-06-26T10:15:06.665207Z",
     "iopub.status.busy": "2024-06-26T10:15:06.664805Z",
     "iopub.status.idle": "2024-06-26T10:15:06.680377Z",
     "shell.execute_reply": "2024-06-26T10:15:06.678982Z"
    },
    "papermill": {
     "duration": 0.037416,
     "end_time": "2024-06-26T10:15:06.683084",
     "exception": false,
     "start_time": "2024-06-26T10:15:06.645668",
     "status": "completed"
    },
    "tags": []
   },
   "outputs": [
    {
     "data": {
      "text/html": [
       "<div>\n",
       "<style scoped>\n",
       "    .dataframe tbody tr th:only-of-type {\n",
       "        vertical-align: middle;\n",
       "    }\n",
       "\n",
       "    .dataframe tbody tr th {\n",
       "        vertical-align: top;\n",
       "    }\n",
       "\n",
       "    .dataframe thead th {\n",
       "        text-align: right;\n",
       "    }\n",
       "</style>\n",
       "<table border=\"1\" class=\"dataframe\">\n",
       "  <thead>\n",
       "    <tr style=\"text-align: right;\">\n",
       "      <th></th>\n",
       "      <th>User_Id</th>\n",
       "      <th>Place_Id</th>\n",
       "      <th>Place_Ratings</th>\n",
       "      <th>user</th>\n",
       "      <th>place</th>\n",
       "    </tr>\n",
       "  </thead>\n",
       "  <tbody>\n",
       "    <tr>\n",
       "      <th>352</th>\n",
       "      <td>268</td>\n",
       "      <td>407</td>\n",
       "      <td>2.0</td>\n",
       "      <td>86</td>\n",
       "      <td>15</td>\n",
       "    </tr>\n",
       "    <tr>\n",
       "      <th>689</th>\n",
       "      <td>75</td>\n",
       "      <td>423</td>\n",
       "      <td>1.0</td>\n",
       "      <td>281</td>\n",
       "      <td>31</td>\n",
       "    </tr>\n",
       "  </tbody>\n",
       "</table>\n",
       "</div>"
      ],
      "text/plain": [
       "     User_Id  Place_Id  Place_Ratings  user  place\n",
       "352      268       407            2.0    86     15\n",
       "689       75       423            1.0   281     31"
      ]
     },
     "execution_count": 29,
     "metadata": {},
     "output_type": "execute_result"
    }
   ],
   "source": [
    "# randomizing dataset\n",
    "df = df.sample(frac=1, random_state=42)\n",
    "df.head(2)"
   ]
  },
  {
   "cell_type": "markdown",
   "id": "862903b0",
   "metadata": {
    "papermill": {
     "duration": 0.017564,
     "end_time": "2024-06-26T10:15:06.718774",
     "exception": false,
     "start_time": "2024-06-26T10:15:06.701210",
     "status": "completed"
    },
    "tags": []
   },
   "source": [
    "# 6. Machine Learning Modelling with RecommenderNet"
   ]
  },
  {
   "cell_type": "markdown",
   "id": "bedd3409",
   "metadata": {
    "papermill": {
     "duration": 0.017689,
     "end_time": "2024-06-26T10:15:06.754274",
     "exception": false,
     "start_time": "2024-06-26T10:15:06.736585",
     "status": "completed"
    },
    "tags": []
   },
   "source": [
    "## 6.1. Allocating data train and test"
   ]
  },
  {
   "cell_type": "code",
   "execution_count": 30,
   "id": "f7d3a42d",
   "metadata": {
    "execution": {
     "iopub.execute_input": "2024-06-26T10:15:06.792369Z",
     "iopub.status.busy": "2024-06-26T10:15:06.791891Z",
     "iopub.status.idle": "2024-06-26T10:15:06.802442Z",
     "shell.execute_reply": "2024-06-26T10:15:06.800717Z"
    },
    "papermill": {
     "duration": 0.033033,
     "end_time": "2024-06-26T10:15:06.805427",
     "exception": false,
     "start_time": "2024-06-26T10:15:06.772394",
     "status": "completed"
    },
    "tags": []
   },
   "outputs": [],
   "source": [
    "# creating x variable for matching the user into one value\n",
    "x = df[['user', 'place']].values\n",
    " \n",
    "# crating y variable for initiatin the rating \n",
    "y = df['Place_Ratings'].apply(lambda x: (x - min_rating) / (max_rating - min_rating)).values\n",
    " \n",
    "# allocating data training 80% & data validation 20% \n",
    "train_indices = int(0.8 * df.shape[0])\n",
    "x_train, x_val, y_train, y_val = (\n",
    "    x[:train_indices],\n",
    "    x[train_indices:],\n",
    "    y[:train_indices],\n",
    "    y[train_indices:]\n",
    ")"
   ]
  },
  {
   "cell_type": "markdown",
   "id": "99dd629d",
   "metadata": {
    "papermill": {
     "duration": 0.017686,
     "end_time": "2024-06-26T10:15:06.842850",
     "exception": false,
     "start_time": "2024-06-26T10:15:06.825164",
     "status": "completed"
    },
    "tags": []
   },
   "source": [
    "## 6.2. Model Preparation"
   ]
  },
  {
   "cell_type": "code",
   "execution_count": 31,
   "id": "8d6d48ba",
   "metadata": {
    "execution": {
     "iopub.execute_input": "2024-06-26T10:15:06.880913Z",
     "iopub.status.busy": "2024-06-26T10:15:06.880455Z",
     "iopub.status.idle": "2024-06-26T10:15:06.892642Z",
     "shell.execute_reply": "2024-06-26T10:15:06.890994Z"
    },
    "papermill": {
     "duration": 0.03435,
     "end_time": "2024-06-26T10:15:06.895480",
     "exception": false,
     "start_time": "2024-06-26T10:15:06.861130",
     "status": "completed"
    },
    "tags": []
   },
   "outputs": [],
   "source": [
    "class RecommenderNet(tf.keras.Model):\n",
    " \n",
    "  # Function initialization\n",
    "  def __init__(self, num_users, num_places, embedding_size, **kwargs):\n",
    "    super(RecommenderNet, self).__init__(**kwargs)\n",
    "    self.num_users = num_users\n",
    "    self.num_places = num_places\n",
    "    self.embedding_size = embedding_size\n",
    "    self.user_embedding = layers.Embedding( # layer embedding user\n",
    "        num_users,\n",
    "        embedding_size,\n",
    "        embeddings_initializer = 'he_normal',\n",
    "        embeddings_regularizer = keras.regularizers.l2(1e-6)\n",
    "    )\n",
    "    self.user_bias = layers.Embedding(num_users, 1) # layer embedding user bias\n",
    "    self.places_embedding = layers.Embedding( # layer embeddings places\n",
    "        num_places,\n",
    "        embedding_size,\n",
    "        embeddings_initializer = 'he_normal',\n",
    "        embeddings_regularizer = keras.regularizers.l2(1e-6)\n",
    "    )\n",
    "    self.places_bias = layers.Embedding(num_places, 1) # layer embedding places bias\n",
    " \n",
    "  def call(self, inputs):\n",
    "    user_vector = self.user_embedding(inputs[:,0]) # layer embedding 1\n",
    "    user_bias = self.user_bias(inputs[:, 0]) # layer embedding 2\n",
    "    places_vector = self.places_embedding(inputs[:, 1]) # layer embedding 3\n",
    "    places_bias = self.places_bias(inputs[:, 1]) # layer embedding 4\n",
    " \n",
    "    dot_user_places = tf.tensordot(user_vector, places_vector, 2) \n",
    " \n",
    "    x = dot_user_places + user_bias + places_bias\n",
    "    \n",
    "    return tf.nn.sigmoid(x) # activation sigmoid"
   ]
  },
  {
   "cell_type": "raw",
   "id": "6ae53a2b",
   "metadata": {
    "execution": {
     "iopub.execute_input": "2024-06-10T15:44:56.027255Z",
     "iopub.status.busy": "2024-06-10T15:44:56.026780Z",
     "iopub.status.idle": "2024-06-10T15:44:56.050107Z",
     "shell.execute_reply": "2024-06-10T15:44:56.049002Z",
     "shell.execute_reply.started": "2024-06-10T15:44:56.027213Z"
    },
    "papermill": {
     "duration": 0.018623,
     "end_time": "2024-06-26T10:15:06.932325",
     "exception": false,
     "start_time": "2024-06-26T10:15:06.913702",
     "status": "completed"
    },
    "tags": []
   },
   "source": []
  },
  {
   "cell_type": "code",
   "execution_count": 32,
   "id": "3c31edf6",
   "metadata": {
    "execution": {
     "iopub.execute_input": "2024-06-26T10:15:06.970801Z",
     "iopub.status.busy": "2024-06-26T10:15:06.970361Z",
     "iopub.status.idle": "2024-06-26T10:15:07.062571Z",
     "shell.execute_reply": "2024-06-26T10:15:07.061441Z"
    },
    "papermill": {
     "duration": 0.115142,
     "end_time": "2024-06-26T10:15:07.065615",
     "exception": false,
     "start_time": "2024-06-26T10:15:06.950473",
     "status": "completed"
    },
    "tags": []
   },
   "outputs": [],
   "source": [
    "model = RecommenderNet(num_users, num_place, 50) # model initialization\n",
    " \n",
    "# model compile\n",
    "model.compile(\n",
    "    loss = tf.keras.losses.BinaryCrossentropy(),\n",
    "    optimizer = keras.optimizers.Adam(learning_rate=0.0004),\n",
    "    metrics=[tf.keras.metrics.RootMeanSquaredError()]\n",
    ")"
   ]
  },
  {
   "cell_type": "code",
   "execution_count": 33,
   "id": "628d4931",
   "metadata": {
    "execution": {
     "iopub.execute_input": "2024-06-26T10:15:07.104690Z",
     "iopub.status.busy": "2024-06-26T10:15:07.103539Z",
     "iopub.status.idle": "2024-06-26T10:15:07.124350Z",
     "shell.execute_reply": "2024-06-26T10:15:07.123069Z"
    },
    "papermill": {
     "duration": 0.04343,
     "end_time": "2024-06-26T10:15:07.127207",
     "exception": false,
     "start_time": "2024-06-26T10:15:07.083777",
     "status": "completed"
    },
    "tags": []
   },
   "outputs": [],
   "source": [
    "model = RecommenderNet(num_users, num_place, 50) # model initialization\n",
    " \n",
    "# model compile\n",
    "model.compile(\n",
    "    loss = tf.keras.losses.BinaryCrossentropy(),\n",
    "    optimizer = keras.optimizers.Adam(learning_rate=0.0004),\n",
    "    metrics=[tf.keras.metrics.RootMeanSquaredError()]\n",
    ")"
   ]
  },
  {
   "cell_type": "code",
   "execution_count": 34,
   "id": "ba859a2a",
   "metadata": {
    "execution": {
     "iopub.execute_input": "2024-06-26T10:15:07.166886Z",
     "iopub.status.busy": "2024-06-26T10:15:07.166414Z",
     "iopub.status.idle": "2024-06-26T10:15:07.173552Z",
     "shell.execute_reply": "2024-06-26T10:15:07.172122Z"
    },
    "papermill": {
     "duration": 0.030552,
     "end_time": "2024-06-26T10:15:07.176097",
     "exception": false,
     "start_time": "2024-06-26T10:15:07.145545",
     "status": "completed"
    },
    "tags": []
   },
   "outputs": [],
   "source": [
    " class myCallback(tf.keras.callbacks.Callback):\n",
    "  def on_epoch_end(self, epoch, logs={}):\n",
    "    if(logs.get('val_root_mean_squared_error')<0.25):\n",
    "      print('Fulfilled expected validation matrix')\n",
    "      self.model.stop_training = True"
   ]
  },
  {
   "cell_type": "code",
   "execution_count": 35,
   "id": "066f1bc9",
   "metadata": {
    "execution": {
     "iopub.execute_input": "2024-06-26T10:15:07.215878Z",
     "iopub.status.busy": "2024-06-26T10:15:07.214671Z",
     "iopub.status.idle": "2024-06-26T10:15:16.771905Z",
     "shell.execute_reply": "2024-06-26T10:15:16.770675Z"
    },
    "papermill": {
     "duration": 9.580236,
     "end_time": "2024-06-26T10:15:16.774797",
     "exception": false,
     "start_time": "2024-06-26T10:15:07.194561",
     "status": "completed"
    },
    "tags": []
   },
   "outputs": [
    {
     "name": "stdout",
     "output_type": "stream",
     "text": [
      "Epoch 1/100\n",
      "27/27 [==============================] - 2s 14ms/step - loss: 0.7388 - root_mean_squared_error: 0.3725 - val_loss: 0.6913 - val_root_mean_squared_error: 0.3478\n",
      "Epoch 2/100\n",
      "27/27 [==============================] - 0s 3ms/step - loss: 0.7385 - root_mean_squared_error: 0.3739 - val_loss: 0.6919 - val_root_mean_squared_error: 0.3482\n",
      "Epoch 3/100\n",
      "27/27 [==============================] - 0s 3ms/step - loss: 0.7478 - root_mean_squared_error: 0.3799 - val_loss: 0.6914 - val_root_mean_squared_error: 0.3479\n",
      "Epoch 4/100\n",
      "27/27 [==============================] - 0s 3ms/step - loss: 0.7282 - root_mean_squared_error: 0.3683 - val_loss: 0.6904 - val_root_mean_squared_error: 0.3474\n",
      "Epoch 5/100\n",
      "27/27 [==============================] - 0s 3ms/step - loss: 0.7334 - root_mean_squared_error: 0.3736 - val_loss: 0.6905 - val_root_mean_squared_error: 0.3474\n",
      "Epoch 6/100\n",
      "27/27 [==============================] - 0s 3ms/step - loss: 0.7753 - root_mean_squared_error: 0.3928 - val_loss: 0.6893 - val_root_mean_squared_error: 0.3467\n",
      "Epoch 7/100\n",
      "27/27 [==============================] - 0s 3ms/step - loss: 0.7125 - root_mean_squared_error: 0.3592 - val_loss: 0.6881 - val_root_mean_squared_error: 0.3460\n",
      "Epoch 8/100\n",
      "27/27 [==============================] - 0s 3ms/step - loss: 0.7232 - root_mean_squared_error: 0.3660 - val_loss: 0.6872 - val_root_mean_squared_error: 0.3454\n",
      "Epoch 9/100\n",
      "27/27 [==============================] - 0s 3ms/step - loss: 0.7178 - root_mean_squared_error: 0.3620 - val_loss: 0.6875 - val_root_mean_squared_error: 0.3456\n",
      "Epoch 10/100\n",
      "27/27 [==============================] - 0s 3ms/step - loss: 0.7270 - root_mean_squared_error: 0.3675 - val_loss: 0.6872 - val_root_mean_squared_error: 0.3455\n",
      "Epoch 11/100\n",
      "27/27 [==============================] - 0s 3ms/step - loss: 0.7078 - root_mean_squared_error: 0.3552 - val_loss: 0.6867 - val_root_mean_squared_error: 0.3452\n",
      "Epoch 12/100\n",
      "27/27 [==============================] - 0s 3ms/step - loss: 0.7317 - root_mean_squared_error: 0.3705 - val_loss: 0.6857 - val_root_mean_squared_error: 0.3445\n",
      "Epoch 13/100\n",
      "27/27 [==============================] - 0s 3ms/step - loss: 0.7062 - root_mean_squared_error: 0.3553 - val_loss: 0.6855 - val_root_mean_squared_error: 0.3443\n",
      "Epoch 14/100\n",
      "27/27 [==============================] - 0s 3ms/step - loss: 0.7206 - root_mean_squared_error: 0.3640 - val_loss: 0.6857 - val_root_mean_squared_error: 0.3445\n",
      "Epoch 15/100\n",
      "27/27 [==============================] - 0s 3ms/step - loss: 0.7066 - root_mean_squared_error: 0.3551 - val_loss: 0.6858 - val_root_mean_squared_error: 0.3446\n",
      "Epoch 16/100\n",
      "27/27 [==============================] - 0s 3ms/step - loss: 0.7256 - root_mean_squared_error: 0.3671 - val_loss: 0.6855 - val_root_mean_squared_error: 0.3445\n",
      "Epoch 17/100\n",
      "27/27 [==============================] - 0s 3ms/step - loss: 0.7377 - root_mean_squared_error: 0.3724 - val_loss: 0.6856 - val_root_mean_squared_error: 0.3445\n",
      "Epoch 18/100\n",
      "27/27 [==============================] - 0s 3ms/step - loss: 0.7066 - root_mean_squared_error: 0.3545 - val_loss: 0.6859 - val_root_mean_squared_error: 0.3447\n",
      "Epoch 19/100\n",
      "27/27 [==============================] - 0s 3ms/step - loss: 0.7182 - root_mean_squared_error: 0.3631 - val_loss: 0.6854 - val_root_mean_squared_error: 0.3444\n",
      "Epoch 20/100\n",
      "27/27 [==============================] - 0s 3ms/step - loss: 0.7189 - root_mean_squared_error: 0.3627 - val_loss: 0.6849 - val_root_mean_squared_error: 0.3441\n",
      "Epoch 21/100\n",
      "27/27 [==============================] - 0s 3ms/step - loss: 0.6962 - root_mean_squared_error: 0.3487 - val_loss: 0.6849 - val_root_mean_squared_error: 0.3441\n",
      "Epoch 22/100\n",
      "27/27 [==============================] - 0s 3ms/step - loss: 0.7076 - root_mean_squared_error: 0.3559 - val_loss: 0.6843 - val_root_mean_squared_error: 0.3437\n",
      "Epoch 23/100\n",
      "27/27 [==============================] - 0s 3ms/step - loss: 0.7039 - root_mean_squared_error: 0.3535 - val_loss: 0.6836 - val_root_mean_squared_error: 0.3432\n",
      "Epoch 24/100\n",
      "27/27 [==============================] - 0s 3ms/step - loss: 0.7186 - root_mean_squared_error: 0.3627 - val_loss: 0.6837 - val_root_mean_squared_error: 0.3433\n",
      "Epoch 25/100\n",
      "27/27 [==============================] - 0s 3ms/step - loss: 0.7074 - root_mean_squared_error: 0.3555 - val_loss: 0.6834 - val_root_mean_squared_error: 0.3431\n",
      "Epoch 26/100\n",
      "27/27 [==============================] - 0s 3ms/step - loss: 0.7188 - root_mean_squared_error: 0.3630 - val_loss: 0.6835 - val_root_mean_squared_error: 0.3431\n",
      "Epoch 27/100\n",
      "27/27 [==============================] - 0s 3ms/step - loss: 0.7052 - root_mean_squared_error: 0.3542 - val_loss: 0.6832 - val_root_mean_squared_error: 0.3429\n",
      "Epoch 28/100\n",
      "27/27 [==============================] - 0s 3ms/step - loss: 0.7110 - root_mean_squared_error: 0.3579 - val_loss: 0.6834 - val_root_mean_squared_error: 0.3431\n",
      "Epoch 29/100\n",
      "27/27 [==============================] - 0s 3ms/step - loss: 0.7040 - root_mean_squared_error: 0.3530 - val_loss: 0.6838 - val_root_mean_squared_error: 0.3433\n",
      "Epoch 30/100\n",
      "27/27 [==============================] - 0s 3ms/step - loss: 0.7036 - root_mean_squared_error: 0.3526 - val_loss: 0.6838 - val_root_mean_squared_error: 0.3434\n",
      "Epoch 31/100\n",
      "27/27 [==============================] - 0s 3ms/step - loss: 0.6934 - root_mean_squared_error: 0.3462 - val_loss: 0.6838 - val_root_mean_squared_error: 0.3434\n",
      "Epoch 32/100\n",
      "27/27 [==============================] - 0s 3ms/step - loss: 0.7049 - root_mean_squared_error: 0.3538 - val_loss: 0.6837 - val_root_mean_squared_error: 0.3433\n",
      "Epoch 33/100\n",
      "27/27 [==============================] - 0s 3ms/step - loss: 0.6915 - root_mean_squared_error: 0.3456 - val_loss: 0.6841 - val_root_mean_squared_error: 0.3435\n",
      "Epoch 34/100\n",
      "27/27 [==============================] - 0s 3ms/step - loss: 0.6826 - root_mean_squared_error: 0.3391 - val_loss: 0.6844 - val_root_mean_squared_error: 0.3437\n",
      "Epoch 35/100\n",
      "27/27 [==============================] - 0s 3ms/step - loss: 0.6881 - root_mean_squared_error: 0.3432 - val_loss: 0.6841 - val_root_mean_squared_error: 0.3435\n",
      "Epoch 36/100\n",
      "27/27 [==============================] - 0s 3ms/step - loss: 0.6922 - root_mean_squared_error: 0.3459 - val_loss: 0.6845 - val_root_mean_squared_error: 0.3438\n",
      "Epoch 37/100\n",
      "27/27 [==============================] - 0s 3ms/step - loss: 0.6863 - root_mean_squared_error: 0.3419 - val_loss: 0.6843 - val_root_mean_squared_error: 0.3436\n",
      "Epoch 38/100\n",
      "27/27 [==============================] - 0s 3ms/step - loss: 0.6747 - root_mean_squared_error: 0.3334 - val_loss: 0.6841 - val_root_mean_squared_error: 0.3436\n",
      "Epoch 39/100\n",
      "27/27 [==============================] - 0s 3ms/step - loss: 0.6801 - root_mean_squared_error: 0.3376 - val_loss: 0.6839 - val_root_mean_squared_error: 0.3434\n",
      "Epoch 40/100\n",
      "27/27 [==============================] - 0s 3ms/step - loss: 0.6783 - root_mean_squared_error: 0.3362 - val_loss: 0.6838 - val_root_mean_squared_error: 0.3433\n",
      "Epoch 41/100\n",
      "27/27 [==============================] - 0s 3ms/step - loss: 0.6843 - root_mean_squared_error: 0.3405 - val_loss: 0.6836 - val_root_mean_squared_error: 0.3431\n",
      "Epoch 42/100\n",
      "27/27 [==============================] - 0s 3ms/step - loss: 0.6763 - root_mean_squared_error: 0.3347 - val_loss: 0.6832 - val_root_mean_squared_error: 0.3429\n",
      "Epoch 43/100\n",
      "27/27 [==============================] - 0s 3ms/step - loss: 0.6805 - root_mean_squared_error: 0.3378 - val_loss: 0.6829 - val_root_mean_squared_error: 0.3427\n",
      "Epoch 44/100\n",
      "27/27 [==============================] - 0s 3ms/step - loss: 0.6836 - root_mean_squared_error: 0.3393 - val_loss: 0.6828 - val_root_mean_squared_error: 0.3426\n",
      "Epoch 45/100\n",
      "27/27 [==============================] - 0s 3ms/step - loss: 0.6719 - root_mean_squared_error: 0.3314 - val_loss: 0.6826 - val_root_mean_squared_error: 0.3425\n",
      "Epoch 46/100\n",
      "27/27 [==============================] - 0s 3ms/step - loss: 0.6798 - root_mean_squared_error: 0.3372 - val_loss: 0.6829 - val_root_mean_squared_error: 0.3427\n",
      "Epoch 47/100\n",
      "27/27 [==============================] - 0s 3ms/step - loss: 0.6749 - root_mean_squared_error: 0.3337 - val_loss: 0.6827 - val_root_mean_squared_error: 0.3425\n",
      "Epoch 48/100\n",
      "27/27 [==============================] - 0s 3ms/step - loss: 0.6800 - root_mean_squared_error: 0.3374 - val_loss: 0.6824 - val_root_mean_squared_error: 0.3423\n",
      "Epoch 49/100\n",
      "27/27 [==============================] - 0s 3ms/step - loss: 0.6772 - root_mean_squared_error: 0.3349 - val_loss: 0.6824 - val_root_mean_squared_error: 0.3423\n",
      "Epoch 50/100\n",
      "27/27 [==============================] - 0s 3ms/step - loss: 0.6654 - root_mean_squared_error: 0.3267 - val_loss: 0.6824 - val_root_mean_squared_error: 0.3423\n",
      "Epoch 51/100\n",
      "27/27 [==============================] - 0s 3ms/step - loss: 0.6770 - root_mean_squared_error: 0.3352 - val_loss: 0.6824 - val_root_mean_squared_error: 0.3423\n",
      "Epoch 52/100\n",
      "27/27 [==============================] - 0s 3ms/step - loss: 0.6710 - root_mean_squared_error: 0.3308 - val_loss: 0.6821 - val_root_mean_squared_error: 0.3421\n",
      "Epoch 53/100\n",
      "27/27 [==============================] - 0s 3ms/step - loss: 0.6803 - root_mean_squared_error: 0.3377 - val_loss: 0.6818 - val_root_mean_squared_error: 0.3419\n",
      "Epoch 54/100\n",
      "27/27 [==============================] - 0s 3ms/step - loss: 0.6822 - root_mean_squared_error: 0.3390 - val_loss: 0.6820 - val_root_mean_squared_error: 0.3421\n",
      "Epoch 55/100\n",
      "27/27 [==============================] - 0s 3ms/step - loss: 0.6696 - root_mean_squared_error: 0.3297 - val_loss: 0.6816 - val_root_mean_squared_error: 0.3418\n",
      "Epoch 56/100\n",
      "27/27 [==============================] - 0s 3ms/step - loss: 0.6762 - root_mean_squared_error: 0.3346 - val_loss: 0.6819 - val_root_mean_squared_error: 0.3419\n",
      "Epoch 57/100\n",
      "27/27 [==============================] - 0s 4ms/step - loss: 0.6703 - root_mean_squared_error: 0.3304 - val_loss: 0.6817 - val_root_mean_squared_error: 0.3418\n",
      "Epoch 58/100\n",
      "27/27 [==============================] - 0s 3ms/step - loss: 0.6719 - root_mean_squared_error: 0.3314 - val_loss: 0.6819 - val_root_mean_squared_error: 0.3420\n",
      "Epoch 59/100\n",
      "27/27 [==============================] - 0s 3ms/step - loss: 0.6669 - root_mean_squared_error: 0.3278 - val_loss: 0.6817 - val_root_mean_squared_error: 0.3419\n",
      "Epoch 60/100\n",
      "27/27 [==============================] - 0s 3ms/step - loss: 0.6765 - root_mean_squared_error: 0.3350 - val_loss: 0.6818 - val_root_mean_squared_error: 0.3419\n",
      "Epoch 61/100\n",
      "27/27 [==============================] - 0s 3ms/step - loss: 0.6715 - root_mean_squared_error: 0.3311 - val_loss: 0.6811 - val_root_mean_squared_error: 0.3414\n",
      "Epoch 62/100\n",
      "27/27 [==============================] - 0s 3ms/step - loss: 0.6660 - root_mean_squared_error: 0.3271 - val_loss: 0.6811 - val_root_mean_squared_error: 0.3414\n",
      "Epoch 63/100\n",
      "27/27 [==============================] - 0s 3ms/step - loss: 0.6650 - root_mean_squared_error: 0.3264 - val_loss: 0.6812 - val_root_mean_squared_error: 0.3415\n",
      "Epoch 64/100\n",
      "27/27 [==============================] - 0s 3ms/step - loss: 0.6692 - root_mean_squared_error: 0.3297 - val_loss: 0.6811 - val_root_mean_squared_error: 0.3414\n",
      "Epoch 65/100\n",
      "27/27 [==============================] - 0s 3ms/step - loss: 0.6706 - root_mean_squared_error: 0.3306 - val_loss: 0.6810 - val_root_mean_squared_error: 0.3414\n",
      "Epoch 66/100\n",
      "27/27 [==============================] - 0s 3ms/step - loss: 0.6670 - root_mean_squared_error: 0.3278 - val_loss: 0.6809 - val_root_mean_squared_error: 0.3412\n",
      "Epoch 67/100\n",
      "27/27 [==============================] - 0s 3ms/step - loss: 0.6649 - root_mean_squared_error: 0.3260 - val_loss: 0.6810 - val_root_mean_squared_error: 0.3413\n",
      "Epoch 68/100\n",
      "27/27 [==============================] - 0s 3ms/step - loss: 0.6625 - root_mean_squared_error: 0.3248 - val_loss: 0.6812 - val_root_mean_squared_error: 0.3414\n",
      "Epoch 69/100\n",
      "27/27 [==============================] - 0s 3ms/step - loss: 0.6652 - root_mean_squared_error: 0.3265 - val_loss: 0.6810 - val_root_mean_squared_error: 0.3413\n",
      "Epoch 70/100\n",
      "27/27 [==============================] - 0s 3ms/step - loss: 0.6638 - root_mean_squared_error: 0.3256 - val_loss: 0.6809 - val_root_mean_squared_error: 0.3412\n",
      "Epoch 71/100\n",
      "27/27 [==============================] - 0s 3ms/step - loss: 0.6635 - root_mean_squared_error: 0.3252 - val_loss: 0.6811 - val_root_mean_squared_error: 0.3414\n",
      "Epoch 72/100\n",
      "27/27 [==============================] - 0s 3ms/step - loss: 0.6650 - root_mean_squared_error: 0.3265 - val_loss: 0.6812 - val_root_mean_squared_error: 0.3415\n",
      "Epoch 73/100\n",
      "27/27 [==============================] - 0s 3ms/step - loss: 0.6614 - root_mean_squared_error: 0.3238 - val_loss: 0.6809 - val_root_mean_squared_error: 0.3412\n",
      "Epoch 74/100\n",
      "27/27 [==============================] - 0s 3ms/step - loss: 0.6606 - root_mean_squared_error: 0.3232 - val_loss: 0.6809 - val_root_mean_squared_error: 0.3413\n",
      "Epoch 75/100\n",
      "27/27 [==============================] - 0s 3ms/step - loss: 0.6586 - root_mean_squared_error: 0.3214 - val_loss: 0.6812 - val_root_mean_squared_error: 0.3414\n",
      "Epoch 76/100\n",
      "27/27 [==============================] - 0s 3ms/step - loss: 0.6613 - root_mean_squared_error: 0.3235 - val_loss: 0.6814 - val_root_mean_squared_error: 0.3416\n",
      "Epoch 77/100\n",
      "27/27 [==============================] - 0s 3ms/step - loss: 0.6588 - root_mean_squared_error: 0.3216 - val_loss: 0.6816 - val_root_mean_squared_error: 0.3418\n",
      "Epoch 78/100\n",
      "27/27 [==============================] - 0s 3ms/step - loss: 0.6635 - root_mean_squared_error: 0.3253 - val_loss: 0.6816 - val_root_mean_squared_error: 0.3417\n",
      "Epoch 79/100\n",
      "27/27 [==============================] - 0s 3ms/step - loss: 0.6591 - root_mean_squared_error: 0.3222 - val_loss: 0.6814 - val_root_mean_squared_error: 0.3416\n",
      "Epoch 80/100\n",
      "27/27 [==============================] - 0s 3ms/step - loss: 0.6578 - root_mean_squared_error: 0.3209 - val_loss: 0.6813 - val_root_mean_squared_error: 0.3415\n",
      "Epoch 81/100\n",
      "27/27 [==============================] - 0s 3ms/step - loss: 0.6567 - root_mean_squared_error: 0.3202 - val_loss: 0.6812 - val_root_mean_squared_error: 0.3415\n",
      "Epoch 82/100\n",
      "27/27 [==============================] - 0s 3ms/step - loss: 0.6539 - root_mean_squared_error: 0.3179 - val_loss: 0.6813 - val_root_mean_squared_error: 0.3415\n",
      "Epoch 83/100\n",
      "27/27 [==============================] - 0s 3ms/step - loss: 0.6555 - root_mean_squared_error: 0.3193 - val_loss: 0.6815 - val_root_mean_squared_error: 0.3416\n",
      "Epoch 84/100\n",
      "27/27 [==============================] - 0s 3ms/step - loss: 0.6547 - root_mean_squared_error: 0.3186 - val_loss: 0.6816 - val_root_mean_squared_error: 0.3417\n",
      "Epoch 85/100\n",
      "27/27 [==============================] - 0s 3ms/step - loss: 0.6571 - root_mean_squared_error: 0.3207 - val_loss: 0.6816 - val_root_mean_squared_error: 0.3417\n",
      "Epoch 86/100\n",
      "27/27 [==============================] - 0s 3ms/step - loss: 0.6568 - root_mean_squared_error: 0.3201 - val_loss: 0.6817 - val_root_mean_squared_error: 0.3418\n",
      "Epoch 87/100\n",
      "27/27 [==============================] - 0s 3ms/step - loss: 0.6526 - root_mean_squared_error: 0.3172 - val_loss: 0.6818 - val_root_mean_squared_error: 0.3419\n",
      "Epoch 88/100\n",
      "27/27 [==============================] - 0s 3ms/step - loss: 0.6523 - root_mean_squared_error: 0.3169 - val_loss: 0.6820 - val_root_mean_squared_error: 0.3420\n",
      "Epoch 89/100\n",
      "27/27 [==============================] - 0s 3ms/step - loss: 0.6526 - root_mean_squared_error: 0.3169 - val_loss: 0.6820 - val_root_mean_squared_error: 0.3420\n",
      "Epoch 90/100\n",
      "27/27 [==============================] - 0s 3ms/step - loss: 0.6542 - root_mean_squared_error: 0.3183 - val_loss: 0.6822 - val_root_mean_squared_error: 0.3421\n",
      "Epoch 91/100\n",
      "27/27 [==============================] - 0s 3ms/step - loss: 0.6551 - root_mean_squared_error: 0.3189 - val_loss: 0.6823 - val_root_mean_squared_error: 0.3422\n",
      "Epoch 92/100\n",
      "27/27 [==============================] - 0s 3ms/step - loss: 0.6482 - root_mean_squared_error: 0.3137 - val_loss: 0.6825 - val_root_mean_squared_error: 0.3423\n",
      "Epoch 93/100\n",
      "27/27 [==============================] - 0s 3ms/step - loss: 0.6545 - root_mean_squared_error: 0.3185 - val_loss: 0.6825 - val_root_mean_squared_error: 0.3423\n",
      "Epoch 94/100\n",
      "27/27 [==============================] - 0s 3ms/step - loss: 0.6471 - root_mean_squared_error: 0.3128 - val_loss: 0.6825 - val_root_mean_squared_error: 0.3423\n",
      "Epoch 95/100\n",
      "27/27 [==============================] - 0s 3ms/step - loss: 0.6496 - root_mean_squared_error: 0.3146 - val_loss: 0.6824 - val_root_mean_squared_error: 0.3422\n",
      "Epoch 96/100\n",
      "27/27 [==============================] - 0s 3ms/step - loss: 0.6525 - root_mean_squared_error: 0.3170 - val_loss: 0.6826 - val_root_mean_squared_error: 0.3424\n",
      "Epoch 97/100\n",
      "27/27 [==============================] - 0s 3ms/step - loss: 0.6459 - root_mean_squared_error: 0.3119 - val_loss: 0.6828 - val_root_mean_squared_error: 0.3425\n",
      "Epoch 98/100\n",
      "27/27 [==============================] - 0s 3ms/step - loss: 0.6478 - root_mean_squared_error: 0.3135 - val_loss: 0.6827 - val_root_mean_squared_error: 0.3425\n",
      "Epoch 99/100\n",
      "27/27 [==============================] - 0s 3ms/step - loss: 0.6484 - root_mean_squared_error: 0.3139 - val_loss: 0.6828 - val_root_mean_squared_error: 0.3425\n",
      "Epoch 100/100\n",
      "27/27 [==============================] - 0s 3ms/step - loss: 0.6541 - root_mean_squared_error: 0.3183 - val_loss: 0.6828 - val_root_mean_squared_error: 0.3425\n"
     ]
    }
   ],
   "source": [
    "# begin the training\n",
    " \n",
    "history = model.fit(\n",
    "    x = x_train,\n",
    "    y = y_train,\n",
    "    epochs = 100,\n",
    "    validation_data = (x_val, y_val),\n",
    "    callbacks = [myCallback()]\n",
    ")"
   ]
  },
  {
   "cell_type": "code",
   "execution_count": 36,
   "id": "098305a0",
   "metadata": {
    "execution": {
     "iopub.execute_input": "2024-06-26T10:15:16.838665Z",
     "iopub.status.busy": "2024-06-26T10:15:16.838162Z",
     "iopub.status.idle": "2024-06-26T10:15:17.060308Z",
     "shell.execute_reply": "2024-06-26T10:15:17.059156Z"
    },
    "papermill": {
     "duration": 0.256825,
     "end_time": "2024-06-26T10:15:17.062730",
     "exception": false,
     "start_time": "2024-06-26T10:15:16.805905",
     "status": "completed"
    },
    "tags": []
   },
   "outputs": [
    {
     "data": {
      "image/png": "[encoded data removed]",
      "text/plain": [
       "<Figure size 432x288 with 1 Axes>"
      ]
     },
     "metadata": {},
     "output_type": "display_data"
    }
   ],
   "source": [
    "# showing the plot loss and validation\n",
    "plt.plot(history.history['root_mean_squared_error'])\n",
    "plt.plot(history.history['val_root_mean_squared_error'])\n",
    "plt.title('model_metrics')\n",
    "plt.ylabel('root_mean_squared_error')\n",
    "plt.xlabel('epoch')\n",
    "plt.ylim(ymin=0, ymax=0.4)\n",
    "plt.legend(['train', 'test'], loc='center left')\n",
    "plt.show()"
   ]
  },
  {
   "cell_type": "markdown",
   "id": "34e8309e",
   "metadata": {
    "papermill": {
     "duration": 0.030841,
     "end_time": "2024-06-26T10:15:17.125339",
     "exception": false,
     "start_time": "2024-06-26T10:15:17.094498",
     "status": "completed"
    },
    "tags": []
   },
   "source": [
    "# 7. Prediction of 7 Recommended Destinations "
   ]
  },
  {
   "cell_type": "markdown",
   "id": "a0c882bf",
   "metadata": {
    "papermill": {
     "duration": 0.031017,
     "end_time": "2024-06-26T10:15:17.188434",
     "exception": false,
     "start_time": "2024-06-26T10:15:17.157417",
     "status": "completed"
    },
    "tags": []
   },
   "source": [
    "## 7.1 DataFrame Preparation to Show the Recommendations"
   ]
  },
  {
   "cell_type": "code",
   "execution_count": 37,
   "id": "9d36634a",
   "metadata": {
    "execution": {
     "iopub.execute_input": "2024-06-26T10:15:17.252899Z",
     "iopub.status.busy": "2024-06-26T10:15:17.252445Z",
     "iopub.status.idle": "2024-06-26T10:15:17.260205Z",
     "shell.execute_reply": "2024-06-26T10:15:17.258837Z"
    },
    "papermill": {
     "duration": 0.043417,
     "end_time": "2024-06-26T10:15:17.262881",
     "exception": false,
     "start_time": "2024-06-26T10:15:17.219464",
     "status": "completed"
    },
    "tags": []
   },
   "outputs": [],
   "source": [
    "# dataframe preparation\n",
    "place_df = place[['Place_Id','Place_Name','Category','Rating','Price']]\n",
    "place_df.columns = ['id','place_name','category','rating','price']\n",
    "df = rating.copy()"
   ]
  },
  {
   "cell_type": "markdown",
   "id": "9d93e2a1",
   "metadata": {
    "papermill": {
     "duration": 0.030754,
     "end_time": "2024-06-26T10:15:17.324880",
     "exception": false,
     "start_time": "2024-06-26T10:15:17.294126",
     "status": "completed"
    },
    "tags": []
   },
   "source": [
    "## 7.2. User Example Preparation to Show Recommendations"
   ]
  },
  {
   "cell_type": "code",
   "execution_count": 38,
   "id": "c2b69ec3",
   "metadata": {
    "execution": {
     "iopub.execute_input": "2024-06-26T10:15:17.392454Z",
     "iopub.status.busy": "2024-06-26T10:15:17.391979Z",
     "iopub.status.idle": "2024-06-26T10:15:17.399583Z",
     "shell.execute_reply": "2024-06-26T10:15:17.398377Z"
    },
    "papermill": {
     "duration": 0.044142,
     "end_time": "2024-06-26T10:15:17.402869",
     "exception": false,
     "start_time": "2024-06-26T10:15:17.358727",
     "status": "completed"
    },
    "tags": []
   },
   "outputs": [],
   "source": [
    "# user sampling\n",
    "user_id = df.User_Id.sample(1).iloc[0]\n",
    "place_visited_by_user = df[df.User_Id == user_id]"
   ]
  },
  {
   "cell_type": "code",
   "execution_count": 39,
   "id": "5d9d83b2",
   "metadata": {
    "execution": {
     "iopub.execute_input": "2024-06-26T10:15:17.469643Z",
     "iopub.status.busy": "2024-06-26T10:15:17.468564Z",
     "iopub.status.idle": "2024-06-26T10:15:17.478031Z",
     "shell.execute_reply": "2024-06-26T10:15:17.476791Z"
    },
    "papermill": {
     "duration": 0.044718,
     "end_time": "2024-06-26T10:15:17.480594",
     "exception": false,
     "start_time": "2024-06-26T10:15:17.435876",
     "status": "completed"
    },
    "tags": []
   },
   "outputs": [],
   "source": [
    "# unvisited location data\n",
    "place_not_visited = place_df[~place_df['id'].isin(place_visited_by_user.Place_Id.values)]['id'] \n",
    "place_not_visited = list(\n",
    "    set(place_not_visited)\n",
    "    .intersection(set(place_to_place_encoded.keys()))\n",
    ")\n",
    " \n",
    "place_not_visited = [[place_to_place_encoded.get(x)] for x in place_not_visited]\n",
    "user_encoder = user_to_user_encoded.get(user_id)\n",
    "user_place_array = np.hstack(\n",
    "    ([[user_encoder]] * len(place_not_visited), place_not_visited)\n",
    ")"
   ]
  },
  {
   "cell_type": "markdown",
   "id": "99714f75",
   "metadata": {
    "papermill": {
     "duration": 0.031212,
     "end_time": "2024-06-26T10:15:17.543271",
     "exception": false,
     "start_time": "2024-06-26T10:15:17.512059",
     "status": "completed"
    },
    "tags": []
   },
   "source": [
    "## 7.3. Showing the Recommendation for Users"
   ]
  },
  {
   "cell_type": "code",
   "execution_count": 40,
   "id": "b47fdf13",
   "metadata": {
    "execution": {
     "iopub.execute_input": "2024-06-26T10:15:17.607265Z",
     "iopub.status.busy": "2024-06-26T10:15:17.606849Z",
     "iopub.status.idle": "2024-06-26T10:15:17.817726Z",
     "shell.execute_reply": "2024-06-26T10:15:17.816136Z"
    },
    "papermill": {
     "duration": 0.246194,
     "end_time": "2024-06-26T10:15:17.820547",
     "exception": false,
     "start_time": "2024-06-26T10:15:17.574353",
     "status": "completed"
    },
    "tags": []
   },
   "outputs": [
    {
     "name": "stdout",
     "output_type": "stream",
     "text": [
      "Recommendation list for: User 160\n",
      "============================================= \n",
      "\n",
      "------------------------------------------------------------\n",
      "Places with highest rating from users\n",
      "------------------------------------------------------------\n",
      "Taman Buah Surabaya : Amusement Park & Downtown Attractions\n",
      "Rumah Batik : Culture\n",
      "Atlantis Land Surabaya : Amusement Park & Downtown Attractions\n",
      "Taman Mundu : Amusement Park & Downtown Attractions\n",
      "\n",
      "------------------------------------------------------------\n",
      "Top 7 place recommendations\n",
      "------------------------------------------------------------\n",
      "1 . Taman Prestasi \n",
      "     Amusement Park & Downtown Attractions , Entrance Fee 0 , Rating 4.6 \n",
      "\n",
      "2 . Monumen Kapal Selam \n",
      "     Culture , Entrance Fee 15000 , Rating 4.4 \n",
      "\n",
      "3 . Taman Pelangi \n",
      "     Amusement Park & Downtown Attractions , Entrance Fee 0 , Rating 4.5 \n",
      "\n",
      "4 . Taman Keputran \n",
      "     Amusement Park & Downtown Attractions , Entrance Fee 0 , Rating 4.3 \n",
      "\n",
      "5 . Taman Ekspresi Dan Perpustakaan \n",
      "     Amusement Park & Downtown Attractions , Entrance Fee 0 , Rating 4.5 \n",
      "\n",
      "6 . Keraton Surabaya \n",
      "     Culture , Entrance Fee 0 , Rating 4.4 \n",
      "\n",
      "7 . Waterpark Kenjeran Surabaya \n",
      "     Amusement Park & Downtown Attractions , Entrance Fee 35000 , Rating 4.1 \n",
      "\n",
      "=============================================\n"
     ]
    }
   ],
   "source": [
    "# top 7 recommendations\n",
    "ratings = model.predict(user_place_array).flatten()\n",
    "top_ratings_indices = ratings.argsort()[-7:][::-1]\n",
    "recommended_place_ids = [\n",
    "    place_encoded_to_place.get(place_not_visited[x][0]) for x in top_ratings_indices\n",
    "]\n",
    " \n",
    "print('Recommendation list for: {}'.format('User ' + str(user_id)))\n",
    "print('===' * 15,'\\n')\n",
    "print('----' * 15)\n",
    "print('Places with highest rating from users')\n",
    "print('----' * 15)\n",
    " \n",
    "top_place_user = (\n",
    "    place_visited_by_user.sort_values(\n",
    "        by = 'Place_Ratings',\n",
    "        ascending=False\n",
    "    )\n",
    "    .head(5)\n",
    "    .Place_Id.values\n",
    ")\n",
    " \n",
    "place_df_rows = place_df[place_df['id'].isin(top_place_user)]\n",
    "for row in place_df_rows.itertuples():\n",
    "    print(row.place_name, ':', row.category)\n",
    "\n",
    "print('')\n",
    "print('----' * 15)\n",
    "print('Top 7 place recommendations')\n",
    "print('----' * 15)\n",
    " \n",
    "recommended_place = place_df[place_df['id'].isin(recommended_place_ids)]\n",
    "for row, i in zip(recommended_place.itertuples(), range(1,8)):\n",
    "    print(i,'.', row.place_name, '\\n    ', row.category, ',', 'Entrance Fee', row.price, ',', 'Rating', row.rating,'\\n')\n",
    "\n",
    "print('==='*15)"
   ]
  },
  {
   "cell_type": "code",
   "execution_count": 41,
   "id": "9245fc60",
   "metadata": {
    "execution": {
     "iopub.execute_input": "2024-06-26T10:15:17.885416Z",
     "iopub.status.busy": "2024-06-26T10:15:17.884973Z",
     "iopub.status.idle": "2024-06-26T10:15:17.891630Z",
     "shell.execute_reply": "2024-06-26T10:15:17.890439Z"
    },
    "papermill": {
     "duration": 0.041942,
     "end_time": "2024-06-26T10:15:17.894591",
     "exception": false,
     "start_time": "2024-06-26T10:15:17.852649",
     "status": "completed"
    },
    "tags": []
   },
   "outputs": [
    {
     "name": "stdout",
     "output_type": "stream",
     "text": [
      "Model: \"recommender_net_1\"\n",
      "_________________________________________________________________\n",
      "Layer (type)                 Output Shape              Param #   \n",
      "=================================================================\n",
      "embedding_4 (Embedding)      multiple                  14650     \n",
      "_________________________________________________________________\n",
      "embedding_5 (Embedding)      multiple                  293       \n",
      "_________________________________________________________________\n",
      "embedding_6 (Embedding)      multiple                  2300      \n",
      "_________________________________________________________________\n",
      "embedding_7 (Embedding)      multiple                  46        \n",
      "=================================================================\n",
      "Total params: 17,289\n",
      "Trainable params: 17,289\n",
      "Non-trainable params: 0\n",
      "_________________________________________________________________\n"
     ]
    }
   ],
   "source": [
    "model.summary()"
   ]
  },
  {
   "cell_type": "markdown",
   "id": "997fc8bb",
   "metadata": {
    "papermill": {
     "duration": 0.031303,
     "end_time": "2024-06-26T10:15:17.958542",
     "exception": false,
     "start_time": "2024-06-26T10:15:17.927239",
     "status": "completed"
    },
    "tags": []
   },
   "source": [
    "## *Reference*"
   ]
  },
  {
   "cell_type": "markdown",
   "id": "683c4884",
   "metadata": {
    "papermill": {
     "duration": 0.032302,
     "end_time": "2024-06-26T10:15:18.022709",
     "exception": false,
     "start_time": "2024-06-26T10:15:17.990407",
     "status": "completed"
    },
    "tags": []
   },
   "source": [
    "\n",
    "  * https://github.com/AgungP88/getloc-apps/tree/machine-learning\n",
    "  * https://www.kaggle.com/ibtesama/getting-started-with-a-movie-recommendation-system\n",
    "  * https://www.kaggle.com/aprabowo/indonesia-tourism-destination\n",
    "  * https://www.dicoding.com/academies/319\n",
    "  * https://www.kaggle.com/code/rafkaip/sistem-rekomendasi-destinasi-wisata-kota-bandung"
   ]
  }
 ],
 "metadata": {
  "kaggle": {
   "accelerator": "none",
   "dataSources": [
    {
     "datasetId": 1481754,
     "sourceId": 2448367,
     "sourceType": "datasetVersion"
    }
   ],
   "dockerImageVersionId": 30357,
   "isGpuEnabled": false,
   "isInternetEnabled": false,
   "language": "python",
   "sourceType": "notebook"
  },
  "kernelspec": {
   "display_name": "Python 3",
   "language": "python",
   "name": "python3"
  },
  "language_info": {
   "codemirror_mode": {
    "name": "ipython",
    "version": 3
   },
   "file_extension": ".py",
   "mimetype": "text/x-python",
   "name": "python",
   "nbconvert_exporter": "python",
   "pygments_lexer": "ipython3",
   "version": "3.7.12"
  },
  "papermill": {
   "default_parameters": {},
   "duration": 35.6918,
   "end_time": "2024-06-26T10:15:21.392206",
   "environment_variables": {},
   "exception": null,
   "input_path": "__notebook__.ipynb",
   "output_path": "__notebook__.ipynb",
   "parameters": {},
   "start_time": "2024-06-26T10:14:45.700406",
   "version": "2.3.4"
  }
 },
 "nbformat": 4,
 "nbformat_minor": 5
}
